{
    "cells": [
        {
            "cell_type": "code",
            "execution_count": 3,
            "metadata": {
                "azdata_cell_guid": "2c31c50c-6b5a-4c76-8a47-d0a219b77d24",
                "language": "sql"
            },
            "outputs": [
                {
                    "data": {
                        "text/html": [
                            "(1 row affected)"
                        ]
                    },
                    "metadata": {},
                    "output_type": "display_data"
                },
                {
                    "data": {
                        "text/html": [
                            "Total execution time: 00:00:00.005"
                        ]
                    },
                    "metadata": {},
                    "output_type": "display_data"
                },
                {
                    "data": {
                        "application/vnd.dataresource+json": {
                            "data": [
                                {
                                    "0": "24000.00",
                                    "1": "2500.00",
                                    "2": "8060.000000"
                                }
                            ],
                            "schema": {
                                "fields": [
                                    {
                                        "name": "max_salary"
                                    },
                                    {
                                        "name": "min_salary"
                                    },
                                    {
                                        "name": "avg_salary"
                                    }
                                ]
                            }
                        },
                        "text/html": [
                            "<table>\n",
                            "<tr><th>max_salary</th><th>min_salary</th><th>avg_salary</th></tr>\n",
                            "<tr><td>24000.00</td><td>2500.00</td><td>8060.000000</td></tr>\n",
                            "</table>"
                        ]
                    },
                    "execution_count": 3,
                    "metadata": {},
                    "output_type": "execute_result"
                }
            ],
            "source": [
                " \n",
                " (select max(salary) as max_salary,min(salary) as min_salary,avg(salary) as avg_salary from employees)\n"
            ]
        },
        {
            "cell_type": "code",
            "execution_count": 4,
            "metadata": {
                "azdata_cell_guid": "992a37d1-79fa-4555-bfb7-8cddac0a74be",
                "language": "sql"
            },
            "outputs": [
                {
                    "data": {
                        "text/html": [
                            "(11 rows affected)"
                        ]
                    },
                    "metadata": {},
                    "output_type": "display_data"
                },
                {
                    "data": {
                        "text/html": [
                            "Total execution time: 00:00:00.004"
                        ]
                    },
                    "metadata": {},
                    "output_type": "display_data"
                },
                {
                    "data": {
                        "application/vnd.dataresource+json": {
                            "data": [
                                {
                                    "0": "4400.00",
                                    "1": "1"
                                },
                                {
                                    "0": "19000.00",
                                    "1": "2"
                                },
                                {
                                    "0": "24900.00",
                                    "1": "3"
                                },
                                {
                                    "0": "6500.00",
                                    "1": "4"
                                },
                                {
                                    "0": "41200.00",
                                    "1": "5"
                                },
                                {
                                    "0": "28800.00",
                                    "1": "6"
                                },
                                {
                                    "0": "10000.00",
                                    "1": "7"
                                },
                                {
                                    "0": "57700.00",
                                    "1": "8"
                                },
                                {
                                    "0": "58000.00",
                                    "1": "9"
                                },
                                {
                                    "0": "51600.00",
                                    "1": "10"
                                },
                                {
                                    "0": "20300.00",
                                    "1": "11"
                                }
                            ],
                            "schema": {
                                "fields": [
                                    {
                                        "name": "(No column name)"
                                    },
                                    {
                                        "name": "department_id"
                                    }
                                ]
                            }
                        },
                        "text/html": [
                            "<table>\n",
                            "<tr><th>(No column name)</th><th>department_id</th></tr>\n",
                            "<tr><td>4400.00</td><td>1</td></tr>\n",
                            "<tr><td>19000.00</td><td>2</td></tr>\n",
                            "<tr><td>24900.00</td><td>3</td></tr>\n",
                            "<tr><td>6500.00</td><td>4</td></tr>\n",
                            "<tr><td>41200.00</td><td>5</td></tr>\n",
                            "<tr><td>28800.00</td><td>6</td></tr>\n",
                            "<tr><td>10000.00</td><td>7</td></tr>\n",
                            "<tr><td>57700.00</td><td>8</td></tr>\n",
                            "<tr><td>58000.00</td><td>9</td></tr>\n",
                            "<tr><td>51600.00</td><td>10</td></tr>\n",
                            "<tr><td>20300.00</td><td>11</td></tr>\n",
                            "</table>"
                        ]
                    },
                    "execution_count": 4,
                    "metadata": {},
                    "output_type": "execute_result"
                }
            ],
            "source": [
                " \n",
                "select  sum(salary),department_id from employees group by department_id"
            ]
        },
        {
            "cell_type": "code",
            "execution_count": 5,
            "metadata": {
                "azdata_cell_guid": "2d86c288-cb7f-4862-9482-d337e4c1a063",
                "language": "sql"
            },
            "outputs": [
                {
                    "data": {
                        "text/html": [
                            "(11 rows affected)"
                        ]
                    },
                    "metadata": {},
                    "output_type": "display_data"
                },
                {
                    "data": {
                        "text/html": [
                            "Total execution time: 00:00:00.004"
                        ]
                    },
                    "metadata": {},
                    "output_type": "display_data"
                },
                {
                    "data": {
                        "application/vnd.dataresource+json": {
                            "data": [
                                {
                                    "0": "1",
                                    "1": "1"
                                },
                                {
                                    "0": "2",
                                    "1": "2"
                                },
                                {
                                    "0": "3",
                                    "1": "6"
                                },
                                {
                                    "0": "4",
                                    "1": "1"
                                },
                                {
                                    "0": "5",
                                    "1": "7"
                                },
                                {
                                    "0": "6",
                                    "1": "5"
                                },
                                {
                                    "0": "7",
                                    "1": "1"
                                },
                                {
                                    "0": "8",
                                    "1": "6"
                                },
                                {
                                    "0": "9",
                                    "1": "3"
                                },
                                {
                                    "0": "10",
                                    "1": "6"
                                },
                                {
                                    "0": "11",
                                    "1": "2"
                                }
                            ],
                            "schema": {
                                "fields": [
                                    {
                                        "name": "department_id"
                                    },
                                    {
                                        "name": "no_employees"
                                    }
                                ]
                            }
                        },
                        "text/html": [
                            "<table>\n",
                            "<tr><th>department_id</th><th>no_employees</th></tr>\n",
                            "<tr><td>1</td><td>1</td></tr>\n",
                            "<tr><td>2</td><td>2</td></tr>\n",
                            "<tr><td>3</td><td>6</td></tr>\n",
                            "<tr><td>4</td><td>1</td></tr>\n",
                            "<tr><td>5</td><td>7</td></tr>\n",
                            "<tr><td>6</td><td>5</td></tr>\n",
                            "<tr><td>7</td><td>1</td></tr>\n",
                            "<tr><td>8</td><td>6</td></tr>\n",
                            "<tr><td>9</td><td>3</td></tr>\n",
                            "<tr><td>10</td><td>6</td></tr>\n",
                            "<tr><td>11</td><td>2</td></tr>\n",
                            "</table>"
                        ]
                    },
                    "execution_count": 5,
                    "metadata": {},
                    "output_type": "execute_result"
                }
            ],
            "source": [
                "\n",
                "select department_id, count(employee_id)as no_employees from employees group by department_id"
            ]
        },
        {
            "cell_type": "code",
            "execution_count": 7,
            "metadata": {
                "azdata_cell_guid": "92c37395-2dab-4732-927c-0b5a0053241b",
                "language": "sql"
            },
            "outputs": [
                {
                    "data": {
                        "text/html": [
                            "(11 rows affected)"
                        ]
                    },
                    "metadata": {},
                    "output_type": "display_data"
                },
                {
                    "data": {
                        "text/html": [
                            "Total execution time: 00:00:00.005"
                        ]
                    },
                    "metadata": {},
                    "output_type": "display_data"
                },
                {
                    "data": {
                        "application/vnd.dataresource+json": {
                            "data": [
                                {
                                    "0": "1",
                                    "1": "4400.00"
                                },
                                {
                                    "0": "2",
                                    "1": "19000.00"
                                },
                                {
                                    "0": "3",
                                    "1": "24900.00"
                                },
                                {
                                    "0": "4",
                                    "1": "6500.00"
                                },
                                {
                                    "0": "5",
                                    "1": "41200.00"
                                },
                                {
                                    "0": "6",
                                    "1": "28800.00"
                                },
                                {
                                    "0": "7",
                                    "1": "10000.00"
                                },
                                {
                                    "0": "8",
                                    "1": "57700.00"
                                },
                                {
                                    "0": "9",
                                    "1": "58000.00"
                                },
                                {
                                    "0": "10",
                                    "1": "51600.00"
                                },
                                {
                                    "0": "11",
                                    "1": "20300.00"
                                }
                            ],
                            "schema": {
                                "fields": [
                                    {
                                        "name": "department_id"
                                    },
                                    {
                                        "name": "total_salary"
                                    }
                                ]
                            }
                        },
                        "text/html": [
                            "<table>\n",
                            "<tr><th>department_id</th><th>total_salary</th></tr>\n",
                            "<tr><td>1</td><td>4400.00</td></tr>\n",
                            "<tr><td>2</td><td>19000.00</td></tr>\n",
                            "<tr><td>3</td><td>24900.00</td></tr>\n",
                            "<tr><td>4</td><td>6500.00</td></tr>\n",
                            "<tr><td>5</td><td>41200.00</td></tr>\n",
                            "<tr><td>6</td><td>28800.00</td></tr>\n",
                            "<tr><td>7</td><td>10000.00</td></tr>\n",
                            "<tr><td>8</td><td>57700.00</td></tr>\n",
                            "<tr><td>9</td><td>58000.00</td></tr>\n",
                            "<tr><td>10</td><td>51600.00</td></tr>\n",
                            "<tr><td>11</td><td>20300.00</td></tr>\n",
                            "</table>"
                        ]
                    },
                    "execution_count": 7,
                    "metadata": {},
                    "output_type": "execute_result"
                }
            ],
            "source": [
                "\n",
                "select  department_id,sum(salary) as total_salary from employees group by department_id"
            ]
        },
        {
            "cell_type": "code",
            "execution_count": 8,
            "metadata": {
                "azdata_cell_guid": "4d404c65-210b-409f-95a3-56f0bae4961d",
                "language": "sql",
                "tags": []
            },
            "outputs": [
                {
                    "data": {
                        "text/html": [
                            "(40 rows affected)"
                        ]
                    },
                    "metadata": {},
                    "output_type": "display_data"
                },
                {
                    "data": {
                        "text/html": [
                            "Total execution time: 00:00:00.006"
                        ]
                    },
                    "metadata": {},
                    "output_type": "display_data"
                },
                {
                    "data": {
                        "application/vnd.dataresource+json": {
                            "data": [
                                {
                                    "0": "StevenKing",
                                    "1": "9"
                                },
                                {
                                    "0": "NeenaKochhar",
                                    "1": "9"
                                },
                                {
                                    "0": "LexDe Haan",
                                    "1": "9"
                                },
                                {
                                    "0": "AlexanderHunold",
                                    "1": "6"
                                },
                                {
                                    "0": "BruceErnst",
                                    "1": "6"
                                },
                                {
                                    "0": "DavidAustin",
                                    "1": "6"
                                },
                                {
                                    "0": "ValliPataballa",
                                    "1": "6"
                                },
                                {
                                    "0": "DianaLorentz",
                                    "1": "6"
                                },
                                {
                                    "0": "NancyGreenberg",
                                    "1": "10"
                                },
                                {
                                    "0": "DanielFaviet",
                                    "1": "10"
                                },
                                {
                                    "0": "JohnChen",
                                    "1": "10"
                                },
                                {
                                    "0": "IsmaelSciarra",
                                    "1": "10"
                                },
                                {
                                    "0": "Jose ManuelUrman",
                                    "1": "10"
                                },
                                {
                                    "0": "LuisPopp",
                                    "1": "10"
                                },
                                {
                                    "0": "DenRaphaely",
                                    "1": "3"
                                },
                                {
                                    "0": "AlexanderKhoo",
                                    "1": "3"
                                },
                                {
                                    "0": "ShelliBaida",
                                    "1": "3"
                                },
                                {
                                    "0": "SigalTobias",
                                    "1": "3"
                                },
                                {
                                    "0": "GuyHimuro",
                                    "1": "3"
                                },
                                {
                                    "0": "KarenColmenares",
                                    "1": "3"
                                },
                                {
                                    "0": "MatthewWeiss",
                                    "1": "5"
                                },
                                {
                                    "0": "AdamFripp",
                                    "1": "5"
                                },
                                {
                                    "0": "PayamKaufling",
                                    "1": "5"
                                },
                                {
                                    "0": "ShantaVollman",
                                    "1": "5"
                                },
                                {
                                    "0": "IreneMikkilineni",
                                    "1": "5"
                                },
                                {
                                    "0": "JohnRussell",
                                    "1": "8"
                                },
                                {
                                    "0": "KarenPartners",
                                    "1": "8"
                                },
                                {
                                    "0": "JonathonTaylor",
                                    "1": "8"
                                },
                                {
                                    "0": "JackLivingston",
                                    "1": "8"
                                },
                                {
                                    "0": "KimberelyGrant",
                                    "1": "8"
                                },
                                {
                                    "0": "CharlesJohnson",
                                    "1": "8"
                                },
                                {
                                    "0": "SarahBell",
                                    "1": "5"
                                },
                                {
                                    "0": "BritneyEverett",
                                    "1": "5"
                                },
                                {
                                    "0": "JenniferWhalen",
                                    "1": "1"
                                },
                                {
                                    "0": "MichaelHartstein",
                                    "1": "2"
                                },
                                {
                                    "0": "PatFay",
                                    "1": "2"
                                },
                                {
                                    "0": "SusanMavris",
                                    "1": "4"
                                },
                                {
                                    "0": "HermannBaer",
                                    "1": "7"
                                },
                                {
                                    "0": "ShelleyHiggins",
                                    "1": "11"
                                },
                                {
                                    "0": "WilliamGietz",
                                    "1": "11"
                                }
                            ],
                            "schema": {
                                "fields": [
                                    {
                                        "name": "employee_name"
                                    },
                                    {
                                        "name": "department_id"
                                    }
                                ]
                            }
                        },
                        "text/html": [
                            "<table>\n",
                            "<tr><th>employee_name</th><th>department_id</th></tr>\n",
                            "<tr><td>StevenKing</td><td>9</td></tr>\n",
                            "<tr><td>NeenaKochhar</td><td>9</td></tr>\n",
                            "<tr><td>LexDe Haan</td><td>9</td></tr>\n",
                            "<tr><td>AlexanderHunold</td><td>6</td></tr>\n",
                            "<tr><td>BruceErnst</td><td>6</td></tr>\n",
                            "<tr><td>DavidAustin</td><td>6</td></tr>\n",
                            "<tr><td>ValliPataballa</td><td>6</td></tr>\n",
                            "<tr><td>DianaLorentz</td><td>6</td></tr>\n",
                            "<tr><td>NancyGreenberg</td><td>10</td></tr>\n",
                            "<tr><td>DanielFaviet</td><td>10</td></tr>\n",
                            "<tr><td>JohnChen</td><td>10</td></tr>\n",
                            "<tr><td>IsmaelSciarra</td><td>10</td></tr>\n",
                            "<tr><td>Jose ManuelUrman</td><td>10</td></tr>\n",
                            "<tr><td>LuisPopp</td><td>10</td></tr>\n",
                            "<tr><td>DenRaphaely</td><td>3</td></tr>\n",
                            "<tr><td>AlexanderKhoo</td><td>3</td></tr>\n",
                            "<tr><td>ShelliBaida</td><td>3</td></tr>\n",
                            "<tr><td>SigalTobias</td><td>3</td></tr>\n",
                            "<tr><td>GuyHimuro</td><td>3</td></tr>\n",
                            "<tr><td>KarenColmenares</td><td>3</td></tr>\n",
                            "<tr><td>MatthewWeiss</td><td>5</td></tr>\n",
                            "<tr><td>AdamFripp</td><td>5</td></tr>\n",
                            "<tr><td>PayamKaufling</td><td>5</td></tr>\n",
                            "<tr><td>ShantaVollman</td><td>5</td></tr>\n",
                            "<tr><td>IreneMikkilineni</td><td>5</td></tr>\n",
                            "<tr><td>JohnRussell</td><td>8</td></tr>\n",
                            "<tr><td>KarenPartners</td><td>8</td></tr>\n",
                            "<tr><td>JonathonTaylor</td><td>8</td></tr>\n",
                            "<tr><td>JackLivingston</td><td>8</td></tr>\n",
                            "<tr><td>KimberelyGrant</td><td>8</td></tr>\n",
                            "<tr><td>CharlesJohnson</td><td>8</td></tr>\n",
                            "<tr><td>SarahBell</td><td>5</td></tr>\n",
                            "<tr><td>BritneyEverett</td><td>5</td></tr>\n",
                            "<tr><td>JenniferWhalen</td><td>1</td></tr>\n",
                            "<tr><td>MichaelHartstein</td><td>2</td></tr>\n",
                            "<tr><td>PatFay</td><td>2</td></tr>\n",
                            "<tr><td>SusanMavris</td><td>4</td></tr>\n",
                            "<tr><td>HermannBaer</td><td>7</td></tr>\n",
                            "<tr><td>ShelleyHiggins</td><td>11</td></tr>\n",
                            "<tr><td>WilliamGietz</td><td>11</td></tr>\n",
                            "</table>"
                        ]
                    },
                    "execution_count": 8,
                    "metadata": {},
                    "output_type": "execute_result"
                }
            ],
            "source": [
                "\n",
                "select CONCAT( first_name,last_name) as employee_name, department_id from employees "
            ]
        },
        {
            "cell_type": "code",
            "execution_count": 10,
            "metadata": {
                "azdata_cell_guid": "d8689b96-505c-432a-a1c7-a1efdf27353a",
                "language": "sql"
            },
            "outputs": [
                {
                    "data": {
                        "text/html": [
                            "(40 rows affected)"
                        ]
                    },
                    "metadata": {},
                    "output_type": "display_data"
                },
                {
                    "data": {
                        "text/html": [
                            "Total execution time: 00:00:00.009"
                        ]
                    },
                    "metadata": {},
                    "output_type": "display_data"
                },
                {
                    "data": {
                        "application/vnd.dataresource+json": {
                            "data": [
                                {
                                    "0": "StevenKing",
                                    "1": "24000.00"
                                },
                                {
                                    "0": "NeenaKochhar",
                                    "1": "17000.00"
                                },
                                {
                                    "0": "LexDe Haan",
                                    "1": "17000.00"
                                },
                                {
                                    "0": "AlexanderHunold",
                                    "1": "9000.00"
                                },
                                {
                                    "0": "BruceErnst",
                                    "1": "6000.00"
                                },
                                {
                                    "0": "DavidAustin",
                                    "1": "4800.00"
                                },
                                {
                                    "0": "ValliPataballa",
                                    "1": "4800.00"
                                },
                                {
                                    "0": "DianaLorentz",
                                    "1": "4200.00"
                                },
                                {
                                    "0": "NancyGreenberg",
                                    "1": "12000.00"
                                },
                                {
                                    "0": "DanielFaviet",
                                    "1": "9000.00"
                                },
                                {
                                    "0": "JohnChen",
                                    "1": "8200.00"
                                },
                                {
                                    "0": "IsmaelSciarra",
                                    "1": "7700.00"
                                },
                                {
                                    "0": "Jose ManuelUrman",
                                    "1": "7800.00"
                                },
                                {
                                    "0": "LuisPopp",
                                    "1": "6900.00"
                                },
                                {
                                    "0": "DenRaphaely",
                                    "1": "11000.00"
                                },
                                {
                                    "0": "AlexanderKhoo",
                                    "1": "3100.00"
                                },
                                {
                                    "0": "ShelliBaida",
                                    "1": "2900.00"
                                },
                                {
                                    "0": "SigalTobias",
                                    "1": "2800.00"
                                },
                                {
                                    "0": "GuyHimuro",
                                    "1": "2600.00"
                                },
                                {
                                    "0": "KarenColmenares",
                                    "1": "2500.00"
                                },
                                {
                                    "0": "MatthewWeiss",
                                    "1": "8000.00"
                                },
                                {
                                    "0": "AdamFripp",
                                    "1": "8200.00"
                                },
                                {
                                    "0": "PayamKaufling",
                                    "1": "7900.00"
                                },
                                {
                                    "0": "ShantaVollman",
                                    "1": "6500.00"
                                },
                                {
                                    "0": "IreneMikkilineni",
                                    "1": "2700.00"
                                },
                                {
                                    "0": "JohnRussell",
                                    "1": "14000.00"
                                },
                                {
                                    "0": "KarenPartners",
                                    "1": "13500.00"
                                },
                                {
                                    "0": "JonathonTaylor",
                                    "1": "8600.00"
                                },
                                {
                                    "0": "JackLivingston",
                                    "1": "8400.00"
                                },
                                {
                                    "0": "KimberelyGrant",
                                    "1": "7000.00"
                                },
                                {
                                    "0": "CharlesJohnson",
                                    "1": "6200.00"
                                },
                                {
                                    "0": "SarahBell",
                                    "1": "4000.00"
                                },
                                {
                                    "0": "BritneyEverett",
                                    "1": "3900.00"
                                },
                                {
                                    "0": "JenniferWhalen",
                                    "1": "4400.00"
                                },
                                {
                                    "0": "MichaelHartstein",
                                    "1": "13000.00"
                                },
                                {
                                    "0": "PatFay",
                                    "1": "6000.00"
                                },
                                {
                                    "0": "SusanMavris",
                                    "1": "6500.00"
                                },
                                {
                                    "0": "HermannBaer",
                                    "1": "10000.00"
                                },
                                {
                                    "0": "ShelleyHiggins",
                                    "1": "12000.00"
                                },
                                {
                                    "0": "WilliamGietz",
                                    "1": "8300.00"
                                }
                            ],
                            "schema": {
                                "fields": [
                                    {
                                        "name": "employee_name"
                                    },
                                    {
                                        "name": "salary"
                                    }
                                ]
                            }
                        },
                        "text/html": [
                            "<table>\n",
                            "<tr><th>employee_name</th><th>salary</th></tr>\n",
                            "<tr><td>StevenKing</td><td>24000.00</td></tr>\n",
                            "<tr><td>NeenaKochhar</td><td>17000.00</td></tr>\n",
                            "<tr><td>LexDe Haan</td><td>17000.00</td></tr>\n",
                            "<tr><td>AlexanderHunold</td><td>9000.00</td></tr>\n",
                            "<tr><td>BruceErnst</td><td>6000.00</td></tr>\n",
                            "<tr><td>DavidAustin</td><td>4800.00</td></tr>\n",
                            "<tr><td>ValliPataballa</td><td>4800.00</td></tr>\n",
                            "<tr><td>DianaLorentz</td><td>4200.00</td></tr>\n",
                            "<tr><td>NancyGreenberg</td><td>12000.00</td></tr>\n",
                            "<tr><td>DanielFaviet</td><td>9000.00</td></tr>\n",
                            "<tr><td>JohnChen</td><td>8200.00</td></tr>\n",
                            "<tr><td>IsmaelSciarra</td><td>7700.00</td></tr>\n",
                            "<tr><td>Jose ManuelUrman</td><td>7800.00</td></tr>\n",
                            "<tr><td>LuisPopp</td><td>6900.00</td></tr>\n",
                            "<tr><td>DenRaphaely</td><td>11000.00</td></tr>\n",
                            "<tr><td>AlexanderKhoo</td><td>3100.00</td></tr>\n",
                            "<tr><td>ShelliBaida</td><td>2900.00</td></tr>\n",
                            "<tr><td>SigalTobias</td><td>2800.00</td></tr>\n",
                            "<tr><td>GuyHimuro</td><td>2600.00</td></tr>\n",
                            "<tr><td>KarenColmenares</td><td>2500.00</td></tr>\n",
                            "<tr><td>MatthewWeiss</td><td>8000.00</td></tr>\n",
                            "<tr><td>AdamFripp</td><td>8200.00</td></tr>\n",
                            "<tr><td>PayamKaufling</td><td>7900.00</td></tr>\n",
                            "<tr><td>ShantaVollman</td><td>6500.00</td></tr>\n",
                            "<tr><td>IreneMikkilineni</td><td>2700.00</td></tr>\n",
                            "<tr><td>JohnRussell</td><td>14000.00</td></tr>\n",
                            "<tr><td>KarenPartners</td><td>13500.00</td></tr>\n",
                            "<tr><td>JonathonTaylor</td><td>8600.00</td></tr>\n",
                            "<tr><td>JackLivingston</td><td>8400.00</td></tr>\n",
                            "<tr><td>KimberelyGrant</td><td>7000.00</td></tr>\n",
                            "<tr><td>CharlesJohnson</td><td>6200.00</td></tr>\n",
                            "<tr><td>SarahBell</td><td>4000.00</td></tr>\n",
                            "<tr><td>BritneyEverett</td><td>3900.00</td></tr>\n",
                            "<tr><td>JenniferWhalen</td><td>4400.00</td></tr>\n",
                            "<tr><td>MichaelHartstein</td><td>13000.00</td></tr>\n",
                            "<tr><td>PatFay</td><td>6000.00</td></tr>\n",
                            "<tr><td>SusanMavris</td><td>6500.00</td></tr>\n",
                            "<tr><td>HermannBaer</td><td>10000.00</td></tr>\n",
                            "<tr><td>ShelleyHiggins</td><td>12000.00</td></tr>\n",
                            "<tr><td>WilliamGietz</td><td>8300.00</td></tr>\n",
                            "</table>"
                        ]
                    },
                    "execution_count": 10,
                    "metadata": {},
                    "output_type": "execute_result"
                }
            ],
            "source": [
                "\n",
                "select concat (first_name,last_name) as employee_name ,salary from employees"
            ]
        },
        {
            "cell_type": "code",
            "execution_count": 14,
            "metadata": {
                "azdata_cell_guid": "747aa867-4e4d-4654-b9e3-3baae0c4cf64",
                "language": "sql"
            },
            "outputs": [
                {
                    "data": {
                        "text/html": [
                            "(3 rows affected)"
                        ]
                    },
                    "metadata": {},
                    "output_type": "display_data"
                },
                {
                    "data": {
                        "text/html": [
                            "Total execution time: 00:00:00.008"
                        ]
                    },
                    "metadata": {},
                    "output_type": "display_data"
                },
                {
                    "data": {
                        "application/vnd.dataresource+json": {
                            "data": [
                                {
                                    "0": "Alexander",
                                    "1": "2"
                                },
                                {
                                    "0": "John",
                                    "1": "2"
                                },
                                {
                                    "0": "Karen",
                                    "1": "2"
                                }
                            ],
                            "schema": {
                                "fields": [
                                    {
                                        "name": "first_name"
                                    },
                                    {
                                        "name": "(No column name)"
                                    }
                                ]
                            }
                        },
                        "text/html": [
                            "<table>\n",
                            "<tr><th>first_name</th><th>(No column name)</th></tr>\n",
                            "<tr><td>Alexander</td><td>2</td></tr>\n",
                            "<tr><td>John</td><td>2</td></tr>\n",
                            "<tr><td>Karen</td><td>2</td></tr>\n",
                            "</table>"
                        ]
                    },
                    "execution_count": 14,
                    "metadata": {},
                    "output_type": "execute_result"
                }
            ],
            "source": [
                "\n",
                "SELECT first_name,COUNT(department_id)\n",
                "FROM Employees GROUP BY first_name\n",
                "HAVING\n",
                "COUNT(department_id) > 1"
            ]
        },
        {
            "cell_type": "code",
            "execution_count": 15,
            "metadata": {
                "azdata_cell_guid": "7ca19d26-ca56-400e-97bc-ddeadcc49a62",
                "language": "sql"
            },
            "outputs": [
                {
                    "data": {
                        "text/html": [
                            "(11 rows affected)"
                        ]
                    },
                    "metadata": {},
                    "output_type": "display_data"
                },
                {
                    "data": {
                        "text/html": [
                            "Total execution time: 00:00:00.006"
                        ]
                    },
                    "metadata": {},
                    "output_type": "display_data"
                },
                {
                    "data": {
                        "application/vnd.dataresource+json": {
                            "data": [
                                {
                                    "0": "NULL",
                                    "1": "24000.00"
                                },
                                {
                                    "0": "100",
                                    "1": "146300.00"
                                },
                                {
                                    "0": "101",
                                    "1": "44900.00"
                                },
                                {
                                    "0": "102",
                                    "1": "9000.00"
                                },
                                {
                                    "0": "103",
                                    "1": "19800.00"
                                },
                                {
                                    "0": "108",
                                    "1": "39600.00"
                                },
                                {
                                    "0": "114",
                                    "1": "13900.00"
                                },
                                {
                                    "0": "120",
                                    "1": "2700.00"
                                },
                                {
                                    "0": "123",
                                    "1": "7900.00"
                                },
                                {
                                    "0": "201",
                                    "1": "6000.00"
                                },
                                {
                                    "0": "205",
                                    "1": "8300.00"
                                }
                            ],
                            "schema": {
                                "fields": [
                                    {
                                        "name": "manager_id"
                                    },
                                    {
                                        "name": "total_salary"
                                    }
                                ]
                            }
                        },
                        "text/html": [
                            "<table>\n",
                            "<tr><th>manager_id</th><th>total_salary</th></tr>\n",
                            "<tr><td>NULL</td><td>24000.00</td></tr>\n",
                            "<tr><td>100</td><td>146300.00</td></tr>\n",
                            "<tr><td>101</td><td>44900.00</td></tr>\n",
                            "<tr><td>102</td><td>9000.00</td></tr>\n",
                            "<tr><td>103</td><td>19800.00</td></tr>\n",
                            "<tr><td>108</td><td>39600.00</td></tr>\n",
                            "<tr><td>114</td><td>13900.00</td></tr>\n",
                            "<tr><td>120</td><td>2700.00</td></tr>\n",
                            "<tr><td>123</td><td>7900.00</td></tr>\n",
                            "<tr><td>201</td><td>6000.00</td></tr>\n",
                            "<tr><td>205</td><td>8300.00</td></tr>\n",
                            "</table>"
                        ]
                    },
                    "execution_count": 15,
                    "metadata": {},
                    "output_type": "execute_result"
                }
            ],
            "source": [
                "\n",
                "select manager_id ,sum(salary) as total_salary from employees group by manager_id"
            ]
        },
        {
            "cell_type": "code",
            "execution_count": 17,
            "metadata": {
                "azdata_cell_guid": "3385f213-9d8b-442c-b4f3-f47ee62077af",
                "language": "sql"
            },
            "outputs": [
                {
                    "data": {
                        "text/html": [
                            "(11 rows affected)"
                        ]
                    },
                    "metadata": {},
                    "output_type": "display_data"
                },
                {
                    "data": {
                        "text/html": [
                            "Total execution time: 00:00:00.011"
                        ]
                    },
                    "metadata": {},
                    "output_type": "display_data"
                },
                {
                    "data": {
                        "application/vnd.dataresource+json": {
                            "data": [
                                {
                                    "0": "ValliPataballa",
                                    "1": "6",
                                    "2": "4800.00",
                                    "3": "Alexander"
                                },
                                {
                                    "0": "DanielFaviet",
                                    "1": "10",
                                    "2": "9000.00",
                                    "3": "Nancy"
                                },
                                {
                                    "0": "DenRaphaely",
                                    "1": "3",
                                    "2": "11000.00",
                                    "3": "Steven"
                                },
                                {
                                    "0": "ShelliBaida",
                                    "1": "3",
                                    "2": "2900.00",
                                    "3": "Den"
                                },
                                {
                                    "0": "PayamKaufling",
                                    "1": "5",
                                    "2": "7900.00",
                                    "3": "Steven"
                                },
                                {
                                    "0": "KarenPartners",
                                    "1": "8",
                                    "2": "13500.00",
                                    "3": "Steven"
                                },
                                {
                                    "0": "JonathonTaylor",
                                    "1": "8",
                                    "2": "8600.00",
                                    "3": "Steven"
                                },
                                {
                                    "0": "MichaelHartstein",
                                    "1": "2",
                                    "2": "13000.00",
                                    "3": "Steven"
                                },
                                {
                                    "0": "PatFay",
                                    "1": "2",
                                    "2": "6000.00",
                                    "3": "Michael"
                                },
                                {
                                    "0": "SusanMavris",
                                    "1": "4",
                                    "2": "6500.00",
                                    "3": "Neena"
                                },
                                {
                                    "0": "HermannBaer",
                                    "1": "7",
                                    "2": "10000.00",
                                    "3": "Neena"
                                }
                            ],
                            "schema": {
                                "fields": [
                                    {
                                        "name": "EmployeeName"
                                    },
                                    {
                                        "name": "department_id"
                                    },
                                    {
                                        "name": "salary"
                                    },
                                    {
                                        "name": "manager_name"
                                    }
                                ]
                            }
                        },
                        "text/html": [
                            "<table>\n",
                            "<tr><th>EmployeeName</th><th>department_id</th><th>salary</th><th>manager_name</th></tr>\n",
                            "<tr><td>ValliPataballa</td><td>6</td><td>4800.00</td><td>Alexander</td></tr>\n",
                            "<tr><td>DanielFaviet</td><td>10</td><td>9000.00</td><td>Nancy</td></tr>\n",
                            "<tr><td>DenRaphaely</td><td>3</td><td>11000.00</td><td>Steven</td></tr>\n",
                            "<tr><td>ShelliBaida</td><td>3</td><td>2900.00</td><td>Den</td></tr>\n",
                            "<tr><td>PayamKaufling</td><td>5</td><td>7900.00</td><td>Steven</td></tr>\n",
                            "<tr><td>KarenPartners</td><td>8</td><td>13500.00</td><td>Steven</td></tr>\n",
                            "<tr><td>JonathonTaylor</td><td>8</td><td>8600.00</td><td>Steven</td></tr>\n",
                            "<tr><td>MichaelHartstein</td><td>2</td><td>13000.00</td><td>Steven</td></tr>\n",
                            "<tr><td>PatFay</td><td>2</td><td>6000.00</td><td>Michael</td></tr>\n",
                            "<tr><td>SusanMavris</td><td>4</td><td>6500.00</td><td>Neena</td></tr>\n",
                            "<tr><td>HermannBaer</td><td>7</td><td>10000.00</td><td>Neena</td></tr>\n",
                            "</table>"
                        ]
                    },
                    "execution_count": 17,
                    "metadata": {},
                    "output_type": "execute_result"
                }
            ],
            "source": [
                "\n",
                "select concat(m.first_name,m.last_name)as EmployeeName,m.department_id,m.salary,w.first_name as manager_name\n",
                "from employees m,employees w where m.manager_id=w.employee_id and\n",
                "m.last_name like '_a%' "
            ]
        },
        {
            "cell_type": "code",
            "execution_count": 18,
            "metadata": {
                "azdata_cell_guid": "b28e9191-c80c-45be-8f7c-44e908581af1",
                "language": "sql"
            },
            "outputs": [
                {
                    "data": {
                        "text/html": [
                            "(11 rows affected)"
                        ]
                    },
                    "metadata": {},
                    "output_type": "display_data"
                },
                {
                    "data": {
                        "text/html": [
                            "Total execution time: 00:00:00.008"
                        ]
                    },
                    "metadata": {},
                    "output_type": "display_data"
                },
                {
                    "data": {
                        "application/vnd.dataresource+json": {
                            "data": [
                                {
                                    "0": "1",
                                    "1": "4400.000000"
                                },
                                {
                                    "0": "2",
                                    "1": "9500.000000"
                                },
                                {
                                    "0": "3",
                                    "1": "4150.000000"
                                },
                                {
                                    "0": "4",
                                    "1": "6500.000000"
                                },
                                {
                                    "0": "5",
                                    "1": "5885.714285"
                                },
                                {
                                    "0": "6",
                                    "1": "5760.000000"
                                },
                                {
                                    "0": "7",
                                    "1": "10000.000000"
                                },
                                {
                                    "0": "8",
                                    "1": "9616.666666"
                                },
                                {
                                    "0": "9",
                                    "1": "19333.333333"
                                },
                                {
                                    "0": "10",
                                    "1": "8600.000000"
                                },
                                {
                                    "0": "11",
                                    "1": "10150.000000"
                                }
                            ],
                            "schema": {
                                "fields": [
                                    {
                                        "name": "department_id"
                                    },
                                    {
                                        "name": "AvgSalary"
                                    }
                                ]
                            }
                        },
                        "text/html": [
                            "<table>\n",
                            "<tr><th>department_id</th><th>AvgSalary</th></tr>\n",
                            "<tr><td>1</td><td>4400.000000</td></tr>\n",
                            "<tr><td>2</td><td>9500.000000</td></tr>\n",
                            "<tr><td>3</td><td>4150.000000</td></tr>\n",
                            "<tr><td>4</td><td>6500.000000</td></tr>\n",
                            "<tr><td>5</td><td>5885.714285</td></tr>\n",
                            "<tr><td>6</td><td>5760.000000</td></tr>\n",
                            "<tr><td>7</td><td>10000.000000</td></tr>\n",
                            "<tr><td>8</td><td>9616.666666</td></tr>\n",
                            "<tr><td>9</td><td>19333.333333</td></tr>\n",
                            "<tr><td>10</td><td>8600.000000</td></tr>\n",
                            "<tr><td>11</td><td>10150.000000</td></tr>\n",
                            "</table>"
                        ]
                    },
                    "execution_count": 18,
                    "metadata": {},
                    "output_type": "execute_result"
                }
            ],
            "source": [
                "\n",
                "select department_id,avg(salary)as AvgSalary from dbo.employees group by department_id  order by department_id\n",
                "\n"
            ]
        },
        {
            "cell_type": "code",
            "execution_count": 19,
            "metadata": {
                "azdata_cell_guid": "475048f6-8ccf-467b-a955-fe36e0963dea",
                "language": "sql"
            },
            "outputs": [
                {
                    "data": {
                        "text/html": [
                            "(11 rows affected)"
                        ]
                    },
                    "metadata": {},
                    "output_type": "display_data"
                },
                {
                    "data": {
                        "text/html": [
                            "Total execution time: 00:00:00.006"
                        ]
                    },
                    "metadata": {},
                    "output_type": "display_data"
                },
                {
                    "data": {
                        "application/vnd.dataresource+json": {
                            "data": [
                                {
                                    "0": "1",
                                    "1": "4400.00"
                                },
                                {
                                    "0": "2",
                                    "1": "13000.00"
                                },
                                {
                                    "0": "3",
                                    "1": "11000.00"
                                },
                                {
                                    "0": "4",
                                    "1": "6500.00"
                                },
                                {
                                    "0": "5",
                                    "1": "8200.00"
                                },
                                {
                                    "0": "6",
                                    "1": "9000.00"
                                },
                                {
                                    "0": "7",
                                    "1": "10000.00"
                                },
                                {
                                    "0": "8",
                                    "1": "14000.00"
                                },
                                {
                                    "0": "9",
                                    "1": "24000.00"
                                },
                                {
                                    "0": "10",
                                    "1": "12000.00"
                                },
                                {
                                    "0": "11",
                                    "1": "12000.00"
                                }
                            ],
                            "schema": {
                                "fields": [
                                    {
                                        "name": "department_id"
                                    },
                                    {
                                        "name": "MaxSalary"
                                    }
                                ]
                            }
                        },
                        "text/html": [
                            "<table>\n",
                            "<tr><th>department_id</th><th>MaxSalary</th></tr>\n",
                            "<tr><td>1</td><td>4400.00</td></tr>\n",
                            "<tr><td>2</td><td>13000.00</td></tr>\n",
                            "<tr><td>3</td><td>11000.00</td></tr>\n",
                            "<tr><td>4</td><td>6500.00</td></tr>\n",
                            "<tr><td>5</td><td>8200.00</td></tr>\n",
                            "<tr><td>6</td><td>9000.00</td></tr>\n",
                            "<tr><td>7</td><td>10000.00</td></tr>\n",
                            "<tr><td>8</td><td>14000.00</td></tr>\n",
                            "<tr><td>9</td><td>24000.00</td></tr>\n",
                            "<tr><td>10</td><td>12000.00</td></tr>\n",
                            "<tr><td>11</td><td>12000.00</td></tr>\n",
                            "</table>"
                        ]
                    },
                    "execution_count": 19,
                    "metadata": {},
                    "output_type": "execute_result"
                }
            ],
            "source": [
                "\n",
                "select department_id,max(salary)as MaxSalary from employees group by department_id\n"
            ]
        }
    ],
    "metadata": {
        "kernelspec": {
            "display_name": "SQL",
            "language": "sql",
            "name": "SQL"
        },
        "language_info": {
            "name": "sql",
            "version": ""
        }
    },
    "nbformat": 4,
    "nbformat_minor": 2
}
