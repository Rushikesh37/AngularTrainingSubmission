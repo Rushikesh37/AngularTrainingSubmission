{
    "cells": [
        {
            "cell_type": "code",
            "execution_count": 3,
            "metadata": {
                "azdata_cell_guid": "72819c66-a53e-470c-a47b-4446771e8441",
                "language": "sql"
            },
            "outputs": [
                {
                    "data": {
                        "text/html": [
                            "(8 rows affected)"
                        ]
                    },
                    "metadata": {},
                    "output_type": "display_data"
                },
                {
                    "data": {
                        "text/html": [
                            "Total execution time: 00:00:00.006"
                        ]
                    },
                    "metadata": {},
                    "output_type": "display_data"
                },
                {
                    "data": {
                        "application/vnd.dataresource+json": {
                            "data": [
                                {
                                    "0": "Metallica",
                                    "1": "Blackened"
                                },
                                {
                                    "0": "Megadeth",
                                    "1": "Blackened"
                                },
                                {
                                    "0": "Anthrax",
                                    "1": "Blackened"
                                },
                                {
                                    "0": "Eric Clapton",
                                    "1": "Warner Bros"
                                },
                                {
                                    "0": "ZZ Top",
                                    "1": "Warner Bros"
                                },
                                {
                                    "0": "Van Halen",
                                    "1": "Warner Bros"
                                },
                                {
                                    "0": "Lynyrd Skynyrd",
                                    "1": "Universal"
                                },
                                {
                                    "0": "ACDC",
                                    "1": "Universal"
                                }
                            ],
                            "schema": {
                                "fields": [
                                    {
                                        "name": "artist_name"
                                    },
                                    {
                                        "name": "record_labelname"
                                    }
                                ]
                            }
                        },
                        "text/html": [
                            "<table>\n",
                            "<tr><th>artist_name</th><th>record_labelname</th></tr>\n",
                            "<tr><td>Metallica</td><td>Blackened</td></tr>\n",
                            "<tr><td>Megadeth</td><td>Blackened</td></tr>\n",
                            "<tr><td>Anthrax</td><td>Blackened</td></tr>\n",
                            "<tr><td>Eric Clapton</td><td>Warner Bros</td></tr>\n",
                            "<tr><td>ZZ Top</td><td>Warner Bros</td></tr>\n",
                            "<tr><td>Van Halen</td><td>Warner Bros</td></tr>\n",
                            "<tr><td>Lynyrd Skynyrd</td><td>Universal</td></tr>\n",
                            "<tr><td>ACDC</td><td>Universal</td></tr>\n",
                            "</table>"
                        ]
                    },
                    "execution_count": 3,
                    "metadata": {},
                    "output_type": "execute_result"
                }
            ],
            "source": [
                "Q 1)\n",
                "select ar.name as artist_name,rl.name as record_labelname from artist ar \n",
                "INNER JOIN recordlabel rl on ar.labelid =rl.labelid"
            ]
        },
        {
            "cell_type": "code",
            "execution_count": 4,
            "metadata": {
                "azdata_cell_guid": "244596db-f388-4d82-818d-c8a410d5ff99",
                "language": "sql"
            },
            "outputs": [
                {
                    "data": {
                        "text/html": [
                            "(8 rows affected)"
                        ]
                    },
                    "metadata": {},
                    "output_type": "display_data"
                },
                {
                    "data": {
                        "text/html": [
                            "Total execution time: 00:00:00.018"
                        ]
                    },
                    "metadata": {},
                    "output_type": "display_data"
                },
                {
                    "data": {
                        "application/vnd.dataresource+json": {
                            "data": [
                                {
                                    "0": "Metallica",
                                    "1": "6"
                                },
                                {
                                    "0": "Megadeth",
                                    "1": "4"
                                },
                                {
                                    "0": "Eric Clapton",
                                    "1": "4"
                                },
                                {
                                    "0": "Lynyrd Skynyrd",
                                    "1": "2"
                                },
                                {
                                    "0": "ACDC",
                                    "1": "2"
                                },
                                {
                                    "0": "Anthrax",
                                    "1": "2"
                                },
                                {
                                    "0": "Van Halen",
                                    "1": "2"
                                },
                                {
                                    "0": "ZZ Top",
                                    "1": "2"
                                }
                            ],
                            "schema": {
                                "fields": [
                                    {
                                        "name": "artist_name"
                                    },
                                    {
                                        "name": "numberof_songs"
                                    }
                                ]
                            }
                        },
                        "text/html": [
                            "<table>\n",
                            "<tr><th>artist_name</th><th>numberof_songs</th></tr>\n",
                            "<tr><td>Metallica</td><td>6</td></tr>\n",
                            "<tr><td>Megadeth</td><td>4</td></tr>\n",
                            "<tr><td>Eric Clapton</td><td>4</td></tr>\n",
                            "<tr><td>Lynyrd Skynyrd</td><td>2</td></tr>\n",
                            "<tr><td>ACDC</td><td>2</td></tr>\n",
                            "<tr><td>Anthrax</td><td>2</td></tr>\n",
                            "<tr><td>Van Halen</td><td>2</td></tr>\n",
                            "<tr><td>ZZ Top</td><td>2</td></tr>\n",
                            "</table>"
                        ]
                    },
                    "execution_count": 4,
                    "metadata": {},
                    "output_type": "execute_result"
                }
            ],
            "source": [
                "Q 2)\n",
                "SELECT ar.name as artist_name,COUNT(s.SongId) as numberof_songs from artist ar inner join album al on ar.artistid=al.artistid \n",
                "INNER JOIN song s on al.albumid=s.albumid GROUP by ar.name order by numberof_songs DESC"
            ]
        },
        {
            "cell_type": "code",
            "execution_count": 5,
            "metadata": {
                "azdata_cell_guid": "07b32bd0-a330-4ece-8475-92ec8582df1c",
                "language": "sql"
            },
            "outputs": [
                {
                    "data": {
                        "text/html": [
                            "(9 rows affected)"
                        ]
                    },
                    "metadata": {},
                    "output_type": "display_data"
                },
                {
                    "data": {
                        "text/html": [
                            "Total execution time: 00:00:00.008"
                        ]
                    },
                    "metadata": {},
                    "output_type": "display_data"
                },
                {
                    "data": {
                        "application/vnd.dataresource+json": {
                            "data": [
                                {
                                    "0": "Lynyrd Skynyrd",
                                    "1": "All-Time Greatest Hits"
                                },
                                {
                                    "0": "Megadeth",
                                    "1": "Endgame"
                                },
                                {
                                    "0": "ACDC",
                                    "1": "Greatest Hits"
                                },
                                {
                                    "0": "ZZ Top",
                                    "1": "Greatest Hits"
                                },
                                {
                                    "0": "Van Halen",
                                    "1": "Greatest Hits"
                                },
                                {
                                    "0": "Megadeth",
                                    "1": "Peace Sells"
                                },
                                {
                                    "0": "Eric Clapton",
                                    "1": "Reptile"
                                },
                                {
                                    "0": "Eric Clapton",
                                    "1": "Riding with the King"
                                },
                                {
                                    "0": "Anthrax",
                                    "1": "The Greater of 2 Evils"
                                }
                            ],
                            "schema": {
                                "fields": [
                                    {
                                        "name": "artist"
                                    },
                                    {
                                        "name": "album"
                                    }
                                ]
                            }
                        },
                        "text/html": [
                            "<table>\n",
                            "<tr><th>artist</th><th>album</th></tr>\n",
                            "<tr><td>Lynyrd Skynyrd</td><td>All-Time Greatest Hits</td></tr>\n",
                            "<tr><td>Megadeth</td><td>Endgame</td></tr>\n",
                            "<tr><td>ACDC</td><td>Greatest Hits</td></tr>\n",
                            "<tr><td>ZZ Top</td><td>Greatest Hits</td></tr>\n",
                            "<tr><td>Van Halen</td><td>Greatest Hits</td></tr>\n",
                            "<tr><td>Megadeth</td><td>Peace Sells</td></tr>\n",
                            "<tr><td>Eric Clapton</td><td>Reptile</td></tr>\n",
                            "<tr><td>Eric Clapton</td><td>Riding with the King</td></tr>\n",
                            "<tr><td>Anthrax</td><td>The Greater of 2 Evils</td></tr>\n",
                            "</table>"
                        ]
                    },
                    "execution_count": 5,
                    "metadata": {},
                    "output_type": "execute_result"
                }
            ],
            "source": [
                "Q 3)\n",
                "select ar.name as artist, al.name as album from artist ar inner join album al \n",
                "on ar.ArtistId=al.ArtistId \n",
                "where ar.ArtistId!=1 ORDER by album"
            ]
        },
        {
            "cell_type": "code",
            "execution_count": 6,
            "metadata": {
                "azdata_cell_guid": "32520b7c-6c11-43b6-8918-e7a376a42781",
                "language": "sql"
            },
            "outputs": [
                {
                    "data": {
                        "text/html": [
                            "(3 rows affected)"
                        ]
                    },
                    "metadata": {},
                    "output_type": "display_data"
                },
                {
                    "data": {
                        "text/html": [
                            "Total execution time: 00:00:00.007"
                        ]
                    },
                    "metadata": {},
                    "output_type": "display_data"
                },
                {
                    "data": {
                        "application/vnd.dataresource+json": {
                            "data": [
                                {
                                    "0": "Metallica",
                                    "1": "...And Justice For All"
                                },
                                {
                                    "0": "Metallica",
                                    "1": "Black Album"
                                },
                                {
                                    "0": "Metallica",
                                    "1": "Master of Puppets"
                                }
                            ],
                            "schema": {
                                "fields": [
                                    {
                                        "name": "name"
                                    },
                                    {
                                        "name": "name"
                                    }
                                ]
                            }
                        },
                        "text/html": [
                            "<table>\n",
                            "<tr><th>name</th><th>name</th></tr>\n",
                            "<tr><td>Metallica</td><td>...And Justice For All</td></tr>\n",
                            "<tr><td>Metallica</td><td>Black Album</td></tr>\n",
                            "<tr><td>Metallica</td><td>Master of Puppets</td></tr>\n",
                            "</table>"
                        ]
                    },
                    "execution_count": 6,
                    "metadata": {},
                    "output_type": "execute_result"
                }
            ],
            "source": [
                "Q 4)\n",
                "SELECT ar.name, al.name from Artist ar inner JOIN Album al on ar.ArtistId=al.ArtistId where ar.ArtistId=1"
            ]
        },
        {
            "cell_type": "code",
            "execution_count": 7,
            "metadata": {
                "azdata_cell_guid": "41370976-3a55-4966-9567-ee7165e07209",
                "language": "sql"
            },
            "outputs": [
                {
                    "data": {
                        "text/html": [
                            "(8 rows affected)"
                        ]
                    },
                    "metadata": {},
                    "output_type": "display_data"
                },
                {
                    "data": {
                        "text/html": [
                            "Total execution time: 00:00:00.011"
                        ]
                    },
                    "metadata": {},
                    "output_type": "display_data"
                },
                {
                    "data": {
                        "application/vnd.dataresource+json": {
                            "data": [
                                {
                                    "0": "Metallica",
                                    "1": "37.74000072479248"
                                },
                                {
                                    "0": "Lynyrd Skynyrd",
                                    "1": "18.679999351501465"
                                },
                                {
                                    "0": "Megadeth",
                                    "1": "17.010000467300415"
                                },
                                {
                                    "0": "Eric Clapton",
                                    "1": "15.46999979019165"
                                },
                                {
                                    "0": "Anthrax",
                                    "1": "10.290000438690186"
                                },
                                {
                                    "0": "ZZ Top",
                                    "1": "8.470000267028809"
                                },
                                {
                                    "0": "ACDC",
                                    "1": "7.869999885559082"
                                },
                                {
                                    "0": "Van Halen",
                                    "1": "5.859999775886536"
                                }
                            ],
                            "schema": {
                                "fields": [
                                    {
                                        "name": "name"
                                    },
                                    {
                                        "name": "durationof_all_songs"
                                    }
                                ]
                            }
                        },
                        "text/html": [
                            "<table>\n",
                            "<tr><th>name</th><th>durationof_all_songs</th></tr>\n",
                            "<tr><td>Metallica</td><td>37.74000072479248</td></tr>\n",
                            "<tr><td>Lynyrd Skynyrd</td><td>18.679999351501465</td></tr>\n",
                            "<tr><td>Megadeth</td><td>17.010000467300415</td></tr>\n",
                            "<tr><td>Eric Clapton</td><td>15.46999979019165</td></tr>\n",
                            "<tr><td>Anthrax</td><td>10.290000438690186</td></tr>\n",
                            "<tr><td>ZZ Top</td><td>8.470000267028809</td></tr>\n",
                            "<tr><td>ACDC</td><td>7.869999885559082</td></tr>\n",
                            "<tr><td>Van Halen</td><td>5.859999775886536</td></tr>\n",
                            "</table>"
                        ]
                    },
                    "execution_count": 7,
                    "metadata": {},
                    "output_type": "execute_result"
                }
            ],
            "source": [
                "Q 5)\n",
                "select ar.name, sum(s.duration)as durationof_all_songs from Artist ar INNER JOIN album al on ar.ArtistId=al.ArtistId \n",
                "INNER JOIN song s on al.AlbumId=s.AlbumId GROUP by ar.Name order by durationof_all_songs desc"
            ]
        }
    ],
    "metadata": {
        "kernelspec": {
            "display_name": "SQL",
            "language": "sql",
            "name": "SQL"
        },
        "language_info": {
            "name": "sql",
            "version": ""
        }
    },
    "nbformat": 4,
    "nbformat_minor": 2
}
