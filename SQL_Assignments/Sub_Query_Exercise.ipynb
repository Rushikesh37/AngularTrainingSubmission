{
    "metadata": {
        "kernelspec": {
            "name": "SQL",
            "display_name": "SQL",
            "language": "sql"
        },
        "language_info": {
            "name": "sql",
            "version": ""
        }
    },
    "nbformat_minor": 2,
    "nbformat": 4,
    "cells": [
        {
            "cell_type": "code",
            "source": [
                "1)\r\n",
                "select name from Artist where artistid in(select top 1 artistid from album \r\n",
                "group by artistid having (count(artistid) > 1))"
            ],
            "metadata": {
                "azdata_cell_guid": "8b64404d-1026-4d25-8ddf-99d89efbbe3f",
                "language": "sql",
                "tags": []
            },
            "outputs": [
                {
                    "output_type": "display_data",
                    "data": {
                        "text/html": "(1 row affected)"
                    },
                    "metadata": {}
                },
                {
                    "output_type": "display_data",
                    "data": {
                        "text/html": "Total execution time: 00:00:00.005"
                    },
                    "metadata": {}
                },
                {
                    "output_type": "execute_result",
                    "metadata": {},
                    "execution_count": 12,
                    "data": {
                        "application/vnd.dataresource+json": {
                            "schema": {
                                "fields": [
                                    {
                                        "name": "name"
                                    }
                                ]
                            },
                            "data": [
                                {
                                    "0": "Metallica"
                                }
                            ]
                        },
                        "text/html": [
                            "<table>",
                            "<tr><th>name</th></tr>",
                            "<tr><td>Metallica</td></tr>",
                            "</table>"
                        ]
                    }
                }
            ],
            "execution_count": 12
        },
        {
            "cell_type": "code",
            "source": [
                "2)\r\n",
                "select name from Artist  where artistid in  (select ArtistId from album \r\n",
                "group by artistid having (count(artistid) <= 1))"
            ],
            "metadata": {
                "language": "sql",
                "azdata_cell_guid": "a82729a6-90be-4972-8a16-6034e55ef5ff"
            },
            "outputs": [
                {
                    "output_type": "display_data",
                    "data": {
                        "text/html": "(5 rows affected)"
                    },
                    "metadata": {}
                },
                {
                    "output_type": "display_data",
                    "data": {
                        "text/html": "Total execution time: 00:00:00.005"
                    },
                    "metadata": {}
                },
                {
                    "output_type": "execute_result",
                    "metadata": {},
                    "execution_count": 3,
                    "data": {
                        "application/vnd.dataresource+json": {
                            "schema": {
                                "fields": [
                                    {
                                        "name": "name"
                                    }
                                ]
                            },
                            "data": [
                                {
                                    "0": "Anthrax"
                                },
                                {
                                    "0": "ZZ Top"
                                },
                                {
                                    "0": "Van Halen"
                                },
                                {
                                    "0": "Lynyrd Skynyrd"
                                },
                                {
                                    "0": "ACDC"
                                }
                            ]
                        },
                        "text/html": [
                            "<table>",
                            "<tr><th>name</th></tr>",
                            "<tr><td>Anthrax</td></tr>",
                            "<tr><td>ZZ Top</td></tr>",
                            "<tr><td>Van Halen</td></tr>",
                            "<tr><td>Lynyrd Skynyrd</td></tr>",
                            "<tr><td>ACDC</td></tr>",
                            "</table>"
                        ]
                    }
                }
            ],
            "execution_count": 3
        },
        {
            "cell_type": "code",
            "source": [
                "3)\r\n",
                "select count(ArtistId) as 'No of songs' from Artist where artistid in  (select ArtistId from album \r\n",
                "group by artistid having (count(artistid) = 1))"
            ],
            "metadata": {
                "language": "sql",
                "azdata_cell_guid": "9b763164-1d03-40c0-88de-be7a08c68c36"
            },
            "outputs": [
                {
                    "output_type": "display_data",
                    "data": {
                        "text/html": "(1 row affected)"
                    },
                    "metadata": {}
                },
                {
                    "output_type": "display_data",
                    "data": {
                        "text/html": "Total execution time: 00:00:00.005"
                    },
                    "metadata": {}
                },
                {
                    "output_type": "execute_result",
                    "metadata": {},
                    "execution_count": 5,
                    "data": {
                        "application/vnd.dataresource+json": {
                            "schema": {
                                "fields": [
                                    {
                                        "name": "No of songs"
                                    }
                                ]
                            },
                            "data": [
                                {
                                    "0": "5"
                                }
                            ]
                        },
                        "text/html": [
                            "<table>",
                            "<tr><th>No of songs</th></tr>",
                            "<tr><td>5</td></tr>",
                            "</table>"
                        ]
                    }
                }
            ],
            "execution_count": 5
        },
        {
            "cell_type": "code",
            "source": [
                "4)\r\n",
                "select name from Artist where ArtistId in \r\n",
                "(select albumid from song where SongId in( select SongId from song where Duration>5))"
            ],
            "metadata": {
                "language": "sql",
                "azdata_cell_guid": "a158697e-bf4e-43d5-88e7-727151e53597"
            },
            "outputs": [
                {
                    "output_type": "display_data",
                    "data": {
                        "text/html": "(6 rows affected)"
                    },
                    "metadata": {}
                },
                {
                    "output_type": "display_data",
                    "data": {
                        "text/html": "Total execution time: 00:00:00.011"
                    },
                    "metadata": {}
                },
                {
                    "output_type": "execute_result",
                    "metadata": {},
                    "execution_count": 6,
                    "data": {
                        "application/vnd.dataresource+json": {
                            "schema": {
                                "fields": [
                                    {
                                        "name": "name"
                                    }
                                ]
                            },
                            "data": [
                                {
                                    "0": "Metallica"
                                },
                                {
                                    "0": "Megadeth"
                                },
                                {
                                    "0": "Anthrax"
                                },
                                {
                                    "0": "Eric Clapton"
                                },
                                {
                                    "0": "ZZ Top"
                                },
                                {
                                    "0": "Van Halen"
                                }
                            ]
                        },
                        "text/html": [
                            "<table>",
                            "<tr><th>name</th></tr>",
                            "<tr><td>Metallica</td></tr>",
                            "<tr><td>Megadeth</td></tr>",
                            "<tr><td>Anthrax</td></tr>",
                            "<tr><td>Eric Clapton</td></tr>",
                            "<tr><td>ZZ Top</td></tr>",
                            "<tr><td>Van Halen</td></tr>",
                            "</table>"
                        ]
                    }
                }
            ],
            "execution_count": 6
        },
        {
            "cell_type": "code",
            "source": [
                "5)\r\n",
                "select ar.name, al.name, count(s.songId)as 'No of songs' from song s, Artist ar, Album al\r\n",
                "where ar.ArtistId in (select al.albumid from song where s.SongId in( select albumId from song  where Duration<5))\r\n",
                "GROUP by ar.Name,al.name"
            ],
            "metadata": {
                "language": "sql",
                "azdata_cell_guid": "3bc0ac9e-c236-4895-a50c-c3cd4216961b"
            },
            "outputs": [
                {
                    "output_type": "display_data",
                    "data": {
                        "text/html": "(8 rows affected)"
                    },
                    "metadata": {}
                },
                {
                    "output_type": "display_data",
                    "data": {
                        "text/html": "Total execution time: 00:00:00.012"
                    },
                    "metadata": {}
                },
                {
                    "output_type": "execute_result",
                    "metadata": {},
                    "execution_count": 7,
                    "data": {
                        "application/vnd.dataresource+json": {
                            "schema": {
                                "fields": [
                                    {
                                        "name": "name"
                                    },
                                    {
                                        "name": "name"
                                    },
                                    {
                                        "name": "No of songs"
                                    }
                                ]
                            },
                            "data": [
                                {
                                    "0": "Metallica",
                                    "1": "...And Justice For All",
                                    "2": "9"
                                },
                                {
                                    "0": "Megadeth",
                                    "1": "Black Album",
                                    "2": "9"
                                },
                                {
                                    "0": "Eric Clapton",
                                    "1": "Endgame",
                                    "2": "9"
                                },
                                {
                                    "0": "Anthrax",
                                    "1": "Master of Puppets",
                                    "2": "9"
                                },
                                {
                                    "0": "ZZ Top",
                                    "1": "Peace Sells",
                                    "2": "9"
                                },
                                {
                                    "0": "Lynyrd Skynyrd",
                                    "1": "Reptile",
                                    "2": "9"
                                },
                                {
                                    "0": "ACDC",
                                    "1": "Riding with the King",
                                    "2": "9"
                                },
                                {
                                    "0": "Van Halen",
                                    "1": "The Greater of 2 Evils",
                                    "2": "9"
                                }
                            ]
                        },
                        "text/html": [
                            "<table>",
                            "<tr><th>name</th><th>name</th><th>No of songs</th></tr>",
                            "<tr><td>Metallica</td><td>...And Justice For All</td><td>9</td></tr>",
                            "<tr><td>Megadeth</td><td>Black Album</td><td>9</td></tr>",
                            "<tr><td>Eric Clapton</td><td>Endgame</td><td>9</td></tr>",
                            "<tr><td>Anthrax</td><td>Master of Puppets</td><td>9</td></tr>",
                            "<tr><td>ZZ Top</td><td>Peace Sells</td><td>9</td></tr>",
                            "<tr><td>Lynyrd Skynyrd</td><td>Reptile</td><td>9</td></tr>",
                            "<tr><td>ACDC</td><td>Riding with the King</td><td>9</td></tr>",
                            "<tr><td>Van Halen</td><td>The Greater of 2 Evils</td><td>9</td></tr>",
                            "</table>"
                        ]
                    }
                }
            ],
            "execution_count": 7
        },
        {
            "cell_type": "code",
            "source": [
                "6)\r\n",
                "select top 1 al.year, count(s.SongId) as 'no of songs' from Album al, song s where al.AlbumId  in(select s.songId from song s ) \r\n",
                "group by al.year order by [no of songs] DESC"
            ],
            "metadata": {
                "language": "sql",
                "azdata_cell_guid": "27d96845-f3a9-4e24-b989-baad86ec3d94"
            },
            "outputs": [
                {
                    "output_type": "display_data",
                    "data": {
                        "text/html": "(1 row affected)"
                    },
                    "metadata": {}
                },
                {
                    "output_type": "display_data",
                    "data": {
                        "text/html": "Total execution time: 00:00:00.010"
                    },
                    "metadata": {}
                },
                {
                    "output_type": "execute_result",
                    "metadata": {},
                    "execution_count": 9,
                    "data": {
                        "application/vnd.dataresource+json": {
                            "schema": {
                                "fields": [
                                    {
                                        "name": "year"
                                    },
                                    {
                                        "name": "no of songs"
                                    }
                                ]
                            },
                            "data": [
                                {
                                    "0": "1986",
                                    "1": "48"
                                }
                            ]
                        },
                        "text/html": [
                            "<table>",
                            "<tr><th>year</th><th>no of songs</th></tr>",
                            "<tr><td>1986</td><td>48</td></tr>",
                            "</table>"
                        ]
                    }
                }
            ],
            "execution_count": 9
        },
        {
            "cell_type": "code",
            "source": [
                "7)\r\n",
                "select top 1 al.year  \"Year\",count(*) \"Number of Albums Recorded\"\r\n",
                "from album al group by al.year order by [Number of Albums Recorded] desc"
            ],
            "metadata": {
                "language": "sql",
                "azdata_cell_guid": "16a8893d-36af-4331-b8c4-4fd6af871cba"
            },
            "outputs": [
                {
                    "output_type": "display_data",
                    "data": {
                        "text/html": "(1 row affected)"
                    },
                    "metadata": {}
                },
                {
                    "output_type": "display_data",
                    "data": {
                        "text/html": "Total execution time: 00:00:00.003"
                    },
                    "metadata": {}
                },
                {
                    "output_type": "execute_result",
                    "metadata": {},
                    "execution_count": 10,
                    "data": {
                        "application/vnd.dataresource+json": {
                            "schema": {
                                "fields": [
                                    {
                                        "name": "Year"
                                    },
                                    {
                                        "name": "Number of Albums Recorded"
                                    }
                                ]
                            },
                            "data": [
                                {
                                    "0": "1986",
                                    "1": "2"
                                }
                            ]
                        },
                        "text/html": [
                            "<table>",
                            "<tr><th>Year</th><th>Number of Albums Recorded</th></tr>",
                            "<tr><td>1986</td><td>2</td></tr>",
                            "</table>"
                        ]
                    }
                }
            ],
            "execution_count": 10
        },
        {
            "cell_type": "code",
            "source": [
                "8)\r\n",
                "select ar.name, sum(s.duration) from song s, Artist ar where s.AlbumId in (select al.albumid from Album al \r\n",
                "where al.AlbumId in(select ar.ArtistId from Artist ar))\r\n",
                "GROUP by ar.name order by sum(s.Duration) desc"
            ],
            "metadata": {
                "language": "sql",
                "azdata_cell_guid": "979c44cb-8279-4ea5-a1e3-3637a275f56b"
            },
            "outputs": [
                {
                    "output_type": "display_data",
                    "data": {
                        "text/html": "(8 rows affected)"
                    },
                    "metadata": {}
                },
                {
                    "output_type": "display_data",
                    "data": {
                        "text/html": "Total execution time: 00:00:00.013"
                    },
                    "metadata": {}
                },
                {
                    "output_type": "execute_result",
                    "metadata": {},
                    "execution_count": 11,
                    "data": {
                        "application/vnd.dataresource+json": {
                            "schema": {
                                "fields": [
                                    {
                                        "name": "name"
                                    },
                                    {
                                        "name": "(No column name)"
                                    }
                                ]
                            },
                            "data": [
                                {
                                    "0": "ACDC",
                                    "1": "80.51000142097473"
                                },
                                {
                                    "0": "Anthrax",
                                    "1": "80.51000142097473"
                                },
                                {
                                    "0": "Eric Clapton",
                                    "1": "80.51000142097473"
                                },
                                {
                                    "0": "Lynyrd Skynyrd",
                                    "1": "80.51000142097473"
                                },
                                {
                                    "0": "Megadeth",
                                    "1": "80.51000142097473"
                                },
                                {
                                    "0": "Metallica",
                                    "1": "80.51000142097473"
                                },
                                {
                                    "0": "Van Halen",
                                    "1": "80.51000142097473"
                                },
                                {
                                    "0": "ZZ Top",
                                    "1": "80.51000142097473"
                                }
                            ]
                        },
                        "text/html": [
                            "<table>",
                            "<tr><th>name</th><th>(No column name)</th></tr>",
                            "<tr><td>ACDC</td><td>80.51000142097473</td></tr>",
                            "<tr><td>Anthrax</td><td>80.51000142097473</td></tr>",
                            "<tr><td>Eric Clapton</td><td>80.51000142097473</td></tr>",
                            "<tr><td>Lynyrd Skynyrd</td><td>80.51000142097473</td></tr>",
                            "<tr><td>Megadeth</td><td>80.51000142097473</td></tr>",
                            "<tr><td>Metallica</td><td>80.51000142097473</td></tr>",
                            "<tr><td>Van Halen</td><td>80.51000142097473</td></tr>",
                            "<tr><td>ZZ Top</td><td>80.51000142097473</td></tr>",
                            "</table>"
                        ]
                    }
                }
            ],
            "execution_count": 11
        }
    ]
}