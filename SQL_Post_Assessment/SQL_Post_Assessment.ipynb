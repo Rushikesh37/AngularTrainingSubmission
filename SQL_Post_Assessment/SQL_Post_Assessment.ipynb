{
    "metadata": {
        "kernelspec": {
            "name": "SQL",
            "display_name": "SQL",
            "language": "sql"
        },
        "language_info": {
            "name": "sql",
            "version": ""
        }
    },
    "nbformat_minor": 2,
    "nbformat": 4,
    "cells": [
        {
            "cell_type": "code",
            "source": [
                "1)\r\n",
                "SELECT job_id, AVG(salary) as Average,MIN(salary) as Minimum,MAX(salary) as Mamximum from employees \r\n",
                "where job_id<18  group by job_id"
            ],
            "metadata": {
                "azdata_cell_guid": "4d486898-0247-4f76-96b9-ab07093212fa",
                "language": "sql",
                "tags": []
            },
            "outputs": [
                {
                    "output_type": "display_data",
                    "data": {
                        "text/html": "(17 rows affected)"
                    },
                    "metadata": {}
                },
                {
                    "output_type": "display_data",
                    "data": {
                        "text/html": "Total execution time: 00:00:00.007"
                    },
                    "metadata": {}
                },
                {
                    "output_type": "execute_result",
                    "execution_count": 2,
                    "data": {
                        "application/vnd.dataresource+json": {
                            "schema": {
                                "fields": [
                                    {
                                        "name": "job_id"
                                    },
                                    {
                                        "name": "Average"
                                    },
                                    {
                                        "name": "Minimum"
                                    },
                                    {
                                        "name": "Mamximum"
                                    }
                                ]
                            },
                            "data": [
                                {
                                    "0": "1",
                                    "1": "8300.000000",
                                    "2": "8300.00",
                                    "3": "8300.00"
                                },
                                {
                                    "0": "2",
                                    "1": "12000.000000",
                                    "2": "12000.00",
                                    "3": "12000.00"
                                },
                                {
                                    "0": "3",
                                    "1": "4400.000000",
                                    "2": "4400.00",
                                    "3": "4400.00"
                                },
                                {
                                    "0": "4",
                                    "1": "24000.000000",
                                    "2": "24000.00",
                                    "3": "24000.00"
                                },
                                {
                                    "0": "5",
                                    "1": "17000.000000",
                                    "2": "17000.00",
                                    "3": "17000.00"
                                },
                                {
                                    "0": "6",
                                    "1": "7920.000000",
                                    "2": "6900.00",
                                    "3": "9000.00"
                                },
                                {
                                    "0": "7",
                                    "1": "12000.000000",
                                    "2": "12000.00",
                                    "3": "12000.00"
                                },
                                {
                                    "0": "8",
                                    "1": "6500.000000",
                                    "2": "6500.00",
                                    "3": "6500.00"
                                },
                                {
                                    "0": "9",
                                    "1": "5760.000000",
                                    "2": "4200.00",
                                    "3": "9000.00"
                                },
                                {
                                    "0": "10",
                                    "1": "13000.000000",
                                    "2": "13000.00",
                                    "3": "13000.00"
                                },
                                {
                                    "0": "11",
                                    "1": "6000.000000",
                                    "2": "6000.00",
                                    "3": "6000.00"
                                },
                                {
                                    "0": "12",
                                    "1": "10000.000000",
                                    "2": "10000.00",
                                    "3": "10000.00"
                                },
                                {
                                    "0": "13",
                                    "1": "2780.000000",
                                    "2": "2500.00",
                                    "3": "3100.00"
                                },
                                {
                                    "0": "14",
                                    "1": "11000.000000",
                                    "2": "11000.00",
                                    "3": "11000.00"
                                },
                                {
                                    "0": "15",
                                    "1": "13750.000000",
                                    "2": "13500.00",
                                    "3": "14000.00"
                                },
                                {
                                    "0": "16",
                                    "1": "7550.000000",
                                    "2": "6200.00",
                                    "3": "8600.00"
                                },
                                {
                                    "0": "17",
                                    "1": "3950.000000",
                                    "2": "3900.00",
                                    "3": "4000.00"
                                }
                            ]
                        },
                        "text/html": "<table><tr><th>job_id</th><th>Average</th><th>Minimum</th><th>Mamximum</th></tr><tr><td>1</td><td>8300.000000</td><td>8300.00</td><td>8300.00</td></tr><tr><td>2</td><td>12000.000000</td><td>12000.00</td><td>12000.00</td></tr><tr><td>3</td><td>4400.000000</td><td>4400.00</td><td>4400.00</td></tr><tr><td>4</td><td>24000.000000</td><td>24000.00</td><td>24000.00</td></tr><tr><td>5</td><td>17000.000000</td><td>17000.00</td><td>17000.00</td></tr><tr><td>6</td><td>7920.000000</td><td>6900.00</td><td>9000.00</td></tr><tr><td>7</td><td>12000.000000</td><td>12000.00</td><td>12000.00</td></tr><tr><td>8</td><td>6500.000000</td><td>6500.00</td><td>6500.00</td></tr><tr><td>9</td><td>5760.000000</td><td>4200.00</td><td>9000.00</td></tr><tr><td>10</td><td>13000.000000</td><td>13000.00</td><td>13000.00</td></tr><tr><td>11</td><td>6000.000000</td><td>6000.00</td><td>6000.00</td></tr><tr><td>12</td><td>10000.000000</td><td>10000.00</td><td>10000.00</td></tr><tr><td>13</td><td>2780.000000</td><td>2500.00</td><td>3100.00</td></tr><tr><td>14</td><td>11000.000000</td><td>11000.00</td><td>11000.00</td></tr><tr><td>15</td><td>13750.000000</td><td>13500.00</td><td>14000.00</td></tr><tr><td>16</td><td>7550.000000</td><td>6200.00</td><td>8600.00</td></tr><tr><td>17</td><td>3950.000000</td><td>3900.00</td><td>4000.00</td></tr></table>"
                    },
                    "metadata": {}
                }
            ],
            "execution_count": 2
        },
        {
            "cell_type": "code",
            "source": [
                "2)\r\n",
                "select d.Department_name, COUNT(d.department_ID) as 'Number_of_employee' FROM departments d\r\n",
                "inner join employees e on d.department_ID=e.department_ID \r\n",
                "GROUP by d.department_name"
            ],
            "metadata": {
                "azdata_cell_guid": "b4b2c130-7fff-4967-96eb-4d9c6e08ab92",
                "language": "sql"
            },
            "outputs": [
                {
                    "output_type": "display_data",
                    "data": {
                        "text/html": "(11 rows affected)"
                    },
                    "metadata": {}
                },
                {
                    "output_type": "display_data",
                    "data": {
                        "text/html": "Total execution time: 00:00:00.010"
                    },
                    "metadata": {}
                },
                {
                    "output_type": "execute_result",
                    "execution_count": 5,
                    "data": {
                        "application/vnd.dataresource+json": {
                            "schema": {
                                "fields": [
                                    {
                                        "name": "Department_name"
                                    },
                                    {
                                        "name": "Number_of_employee"
                                    }
                                ]
                            },
                            "data": [
                                {
                                    "0": "Accounting",
                                    "1": "2"
                                },
                                {
                                    "0": "Administration",
                                    "1": "1"
                                },
                                {
                                    "0": "Executive",
                                    "1": "3"
                                },
                                {
                                    "0": "Finance",
                                    "1": "6"
                                },
                                {
                                    "0": "Human Resources",
                                    "1": "1"
                                },
                                {
                                    "0": "IT",
                                    "1": "5"
                                },
                                {
                                    "0": "Marketing",
                                    "1": "2"
                                },
                                {
                                    "0": "Public Relations",
                                    "1": "1"
                                },
                                {
                                    "0": "Purchasing",
                                    "1": "6"
                                },
                                {
                                    "0": "Sales",
                                    "1": "6"
                                },
                                {
                                    "0": "Shipping",
                                    "1": "7"
                                }
                            ]
                        },
                        "text/html": "<table><tr><th>Department_name</th><th>Number_of_employee</th></tr><tr><td>Accounting</td><td>2</td></tr><tr><td>Administration</td><td>1</td></tr><tr><td>Executive</td><td>3</td></tr><tr><td>Finance</td><td>6</td></tr><tr><td>Human Resources</td><td>1</td></tr><tr><td>IT</td><td>5</td></tr><tr><td>Marketing</td><td>2</td></tr><tr><td>Public Relations</td><td>1</td></tr><tr><td>Purchasing</td><td>6</td></tr><tr><td>Sales</td><td>6</td></tr><tr><td>Shipping</td><td>7</td></tr></table>"
                    },
                    "metadata": {}
                }
            ],
            "execution_count": 5
        },
        {
            "cell_type": "code",
            "source": [
                "3)\r\n",
                "select count(e.employee_id) as count_employees,e.manager_id,m.first_name as manager_name from employees e join employees m\r\n",
                "on e.manager_id=m.employee_id GROUP by e.manager_id,m.first_name"
            ],
            "metadata": {
                "language": "sql",
                "azdata_cell_guid": "5c1ee471-ee48-4296-bf49-3f32655fc138"
            },
            "outputs": [
                {
                    "output_type": "display_data",
                    "data": {
                        "text/html": "(10 rows affected)"
                    },
                    "metadata": {}
                },
                {
                    "output_type": "display_data",
                    "data": {
                        "text/html": "Total execution time: 00:00:00.005"
                    },
                    "metadata": {}
                },
                {
                    "output_type": "execute_result",
                    "execution_count": 7,
                    "data": {
                        "application/vnd.dataresource+json": {
                            "schema": {
                                "fields": [
                                    {
                                        "name": "count_employees"
                                    },
                                    {
                                        "name": "manager_id"
                                    },
                                    {
                                        "name": "manager_name"
                                    }
                                ]
                            },
                            "data": [
                                {
                                    "0": "14",
                                    "1": "100",
                                    "2": "Steven"
                                },
                                {
                                    "0": "5",
                                    "1": "101",
                                    "2": "Neena"
                                },
                                {
                                    "0": "1",
                                    "1": "102",
                                    "2": "Lex"
                                },
                                {
                                    "0": "4",
                                    "1": "103",
                                    "2": "Alexander"
                                },
                                {
                                    "0": "5",
                                    "1": "108",
                                    "2": "Nancy"
                                },
                                {
                                    "0": "5",
                                    "1": "114",
                                    "2": "Den"
                                },
                                {
                                    "0": "1",
                                    "1": "120",
                                    "2": "Matthew"
                                },
                                {
                                    "0": "2",
                                    "1": "123",
                                    "2": "Shanta"
                                },
                                {
                                    "0": "1",
                                    "1": "201",
                                    "2": "Michael"
                                },
                                {
                                    "0": "1",
                                    "1": "205",
                                    "2": "Shelley"
                                }
                            ]
                        },
                        "text/html": "<table><tr><th>count_employees</th><th>manager_id</th><th>manager_name</th></tr><tr><td>14</td><td>100</td><td>Steven</td></tr><tr><td>5</td><td>101</td><td>Neena</td></tr><tr><td>1</td><td>102</td><td>Lex</td></tr><tr><td>4</td><td>103</td><td>Alexander</td></tr><tr><td>5</td><td>108</td><td>Nancy</td></tr><tr><td>5</td><td>114</td><td>Den</td></tr><tr><td>1</td><td>120</td><td>Matthew</td></tr><tr><td>2</td><td>123</td><td>Shanta</td></tr><tr><td>1</td><td>201</td><td>Michael</td></tr><tr><td>1</td><td>205</td><td>Shelley</td></tr></table>"
                    },
                    "metadata": {}
                }
            ],
            "execution_count": 7
        },
        {
            "cell_type": "code",
            "source": [
                "4)\r\n",
                "SELECT top 16 e.last_name,e.department_id,d.department_name from employees e \r\n",
                " join departments d on e.department_id=d.department_id order by e.last_name"
            ],
            "metadata": {
                "language": "sql",
                "azdata_cell_guid": "8afc5cde-51bd-4e9f-8e0e-3a7ba74c1b3b"
            },
            "outputs": [
                {
                    "output_type": "display_data",
                    "data": {
                        "text/html": "(16 rows affected)"
                    },
                    "metadata": {}
                },
                {
                    "output_type": "display_data",
                    "data": {
                        "text/html": "Total execution time: 00:00:00.005"
                    },
                    "metadata": {}
                },
                {
                    "output_type": "execute_result",
                    "execution_count": 9,
                    "data": {
                        "application/vnd.dataresource+json": {
                            "schema": {
                                "fields": [
                                    {
                                        "name": "last_name"
                                    },
                                    {
                                        "name": "department_id"
                                    },
                                    {
                                        "name": "department_name"
                                    }
                                ]
                            },
                            "data": [
                                {
                                    "0": "Austin",
                                    "1": "6",
                                    "2": "IT"
                                },
                                {
                                    "0": "Baer",
                                    "1": "7",
                                    "2": "Public Relations"
                                },
                                {
                                    "0": "Baida",
                                    "1": "3",
                                    "2": "Purchasing"
                                },
                                {
                                    "0": "Bell",
                                    "1": "5",
                                    "2": "Shipping"
                                },
                                {
                                    "0": "Chen",
                                    "1": "10",
                                    "2": "Finance"
                                },
                                {
                                    "0": "Colmenares",
                                    "1": "3",
                                    "2": "Purchasing"
                                },
                                {
                                    "0": "De Haan",
                                    "1": "9",
                                    "2": "Executive"
                                },
                                {
                                    "0": "Ernst",
                                    "1": "6",
                                    "2": "IT"
                                },
                                {
                                    "0": "Everett",
                                    "1": "5",
                                    "2": "Shipping"
                                },
                                {
                                    "0": "Faviet",
                                    "1": "10",
                                    "2": "Finance"
                                },
                                {
                                    "0": "Fay",
                                    "1": "2",
                                    "2": "Marketing"
                                },
                                {
                                    "0": "Fripp",
                                    "1": "5",
                                    "2": "Shipping"
                                },
                                {
                                    "0": "Gietz",
                                    "1": "11",
                                    "2": "Accounting"
                                },
                                {
                                    "0": "Grant",
                                    "1": "8",
                                    "2": "Sales"
                                },
                                {
                                    "0": "Greenberg",
                                    "1": "10",
                                    "2": "Finance"
                                },
                                {
                                    "0": "Hartstein",
                                    "1": "2",
                                    "2": "Marketing"
                                }
                            ]
                        },
                        "text/html": "<table><tr><th>last_name</th><th>department_id</th><th>department_name</th></tr><tr><td>Austin</td><td>6</td><td>IT</td></tr><tr><td>Baer</td><td>7</td><td>Public Relations</td></tr><tr><td>Baida</td><td>3</td><td>Purchasing</td></tr><tr><td>Bell</td><td>5</td><td>Shipping</td></tr><tr><td>Chen</td><td>10</td><td>Finance</td></tr><tr><td>Colmenares</td><td>3</td><td>Purchasing</td></tr><tr><td>De Haan</td><td>9</td><td>Executive</td></tr><tr><td>Ernst</td><td>6</td><td>IT</td></tr><tr><td>Everett</td><td>5</td><td>Shipping</td></tr><tr><td>Faviet</td><td>10</td><td>Finance</td></tr><tr><td>Fay</td><td>2</td><td>Marketing</td></tr><tr><td>Fripp</td><td>5</td><td>Shipping</td></tr><tr><td>Gietz</td><td>11</td><td>Accounting</td></tr><tr><td>Grant</td><td>8</td><td>Sales</td></tr><tr><td>Greenberg</td><td>10</td><td>Finance</td></tr><tr><td>Hartstein</td><td>2</td><td>Marketing</td></tr></table>"
                    },
                    "metadata": {}
                }
            ],
            "execution_count": 9
        },
        {
            "cell_type": "code",
            "source": [
                "5)\r\n",
                "select jb.job_title,l.street_address, l.city,l.country_id from  jobs jb join employees e on jb.job_id=e.job_id \r\n",
                "join departments d on e.department_id=d.department_id join locations l on d.location_id=l.location_id where jb.job_id=8"
            ],
            "metadata": {
                "language": "sql",
                "azdata_cell_guid": "0475b025-bafd-42bd-b539-97313398eed2",
                "tags": []
            },
            "outputs": [
                {
                    "output_type": "display_data",
                    "data": {
                        "text/html": "(1 row affected)"
                    },
                    "metadata": {}
                },
                {
                    "output_type": "display_data",
                    "data": {
                        "text/html": "Total execution time: 00:00:00.008"
                    },
                    "metadata": {}
                },
                {
                    "output_type": "execute_result",
                    "execution_count": 10,
                    "data": {
                        "application/vnd.dataresource+json": {
                            "schema": {
                                "fields": [
                                    {
                                        "name": "job_title"
                                    },
                                    {
                                        "name": "street_address"
                                    },
                                    {
                                        "name": "city"
                                    },
                                    {
                                        "name": "country_id"
                                    }
                                ]
                            },
                            "data": [
                                {
                                    "0": "Human Resources Representative",
                                    "1": "8204 Arthur St",
                                    "2": "London",
                                    "3": "UK"
                                }
                            ]
                        },
                        "text/html": "<table><tr><th>job_title</th><th>street_address</th><th>city</th><th>country_id</th></tr><tr><td>Human Resources Representative</td><td>8204 Arthur St</td><td>London</td><td>UK</td></tr></table>"
                    },
                    "metadata": {}
                }
            ],
            "execution_count": 10
        },
        {
            "cell_type": "code",
            "source": [
                "6)\r\n",
                "SELECT e.last_name,d.department_name,d.location_id,l.city from employees e join departments d on e.department_id=d.department_id\r\n",
                "join locations l on d.location_id=l.location_id where d.department_id in (6,10,3) order by l.location_id"
            ],
            "metadata": {
                "language": "sql",
                "azdata_cell_guid": "b8ad1a89-9ce9-4c6c-8a94-85b3a2813292"
            },
            "outputs": [
                {
                    "output_type": "display_data",
                    "data": {
                        "text/html": "(17 rows affected)"
                    },
                    "metadata": {}
                },
                {
                    "output_type": "display_data",
                    "data": {
                        "text/html": "Total execution time: 00:00:00.009"
                    },
                    "metadata": {}
                },
                {
                    "output_type": "execute_result",
                    "execution_count": 11,
                    "data": {
                        "application/vnd.dataresource+json": {
                            "schema": {
                                "fields": [
                                    {
                                        "name": "last_name"
                                    },
                                    {
                                        "name": "department_name"
                                    },
                                    {
                                        "name": "location_id"
                                    },
                                    {
                                        "name": "city"
                                    }
                                ]
                            },
                            "data": [
                                {
                                    "0": "Hunold",
                                    "1": "IT",
                                    "2": "1400",
                                    "3": "Southlake"
                                },
                                {
                                    "0": "Ernst",
                                    "1": "IT",
                                    "2": "1400",
                                    "3": "Southlake"
                                },
                                {
                                    "0": "Austin",
                                    "1": "IT",
                                    "2": "1400",
                                    "3": "Southlake"
                                },
                                {
                                    "0": "Pataballa",
                                    "1": "IT",
                                    "2": "1400",
                                    "3": "Southlake"
                                },
                                {
                                    "0": "Lorentz",
                                    "1": "IT",
                                    "2": "1400",
                                    "3": "Southlake"
                                },
                                {
                                    "0": "Greenberg",
                                    "1": "Finance",
                                    "2": "1700",
                                    "3": "Seattle"
                                },
                                {
                                    "0": "Faviet",
                                    "1": "Finance",
                                    "2": "1700",
                                    "3": "Seattle"
                                },
                                {
                                    "0": "Chen",
                                    "1": "Finance",
                                    "2": "1700",
                                    "3": "Seattle"
                                },
                                {
                                    "0": "Sciarra",
                                    "1": "Finance",
                                    "2": "1700",
                                    "3": "Seattle"
                                },
                                {
                                    "0": "Urman",
                                    "1": "Finance",
                                    "2": "1700",
                                    "3": "Seattle"
                                },
                                {
                                    "0": "Popp",
                                    "1": "Finance",
                                    "2": "1700",
                                    "3": "Seattle"
                                },
                                {
                                    "0": "Raphaely",
                                    "1": "Purchasing",
                                    "2": "1700",
                                    "3": "Seattle"
                                },
                                {
                                    "0": "Khoo",
                                    "1": "Purchasing",
                                    "2": "1700",
                                    "3": "Seattle"
                                },
                                {
                                    "0": "Baida",
                                    "1": "Purchasing",
                                    "2": "1700",
                                    "3": "Seattle"
                                },
                                {
                                    "0": "Tobias",
                                    "1": "Purchasing",
                                    "2": "1700",
                                    "3": "Seattle"
                                },
                                {
                                    "0": "Himuro",
                                    "1": "Purchasing",
                                    "2": "1700",
                                    "3": "Seattle"
                                },
                                {
                                    "0": "Colmenares",
                                    "1": "Purchasing",
                                    "2": "1700",
                                    "3": "Seattle"
                                }
                            ]
                        },
                        "text/html": "<table><tr><th>last_name</th><th>department_name</th><th>location_id</th><th>city</th></tr><tr><td>Hunold</td><td>IT</td><td>1400</td><td>Southlake</td></tr><tr><td>Ernst</td><td>IT</td><td>1400</td><td>Southlake</td></tr><tr><td>Austin</td><td>IT</td><td>1400</td><td>Southlake</td></tr><tr><td>Pataballa</td><td>IT</td><td>1400</td><td>Southlake</td></tr><tr><td>Lorentz</td><td>IT</td><td>1400</td><td>Southlake</td></tr><tr><td>Greenberg</td><td>Finance</td><td>1700</td><td>Seattle</td></tr><tr><td>Faviet</td><td>Finance</td><td>1700</td><td>Seattle</td></tr><tr><td>Chen</td><td>Finance</td><td>1700</td><td>Seattle</td></tr><tr><td>Sciarra</td><td>Finance</td><td>1700</td><td>Seattle</td></tr><tr><td>Urman</td><td>Finance</td><td>1700</td><td>Seattle</td></tr><tr><td>Popp</td><td>Finance</td><td>1700</td><td>Seattle</td></tr><tr><td>Raphaely</td><td>Purchasing</td><td>1700</td><td>Seattle</td></tr><tr><td>Khoo</td><td>Purchasing</td><td>1700</td><td>Seattle</td></tr><tr><td>Baida</td><td>Purchasing</td><td>1700</td><td>Seattle</td></tr><tr><td>Tobias</td><td>Purchasing</td><td>1700</td><td>Seattle</td></tr><tr><td>Himuro</td><td>Purchasing</td><td>1700</td><td>Seattle</td></tr><tr><td>Colmenares</td><td>Purchasing</td><td>1700</td><td>Seattle</td></tr></table>"
                    },
                    "metadata": {}
                }
            ],
            "execution_count": 11
        },
        {
            "cell_type": "code",
            "source": [
                "7)\r\n",
                "Select e.last_name, d.department_name from employees e join departments d on e.department_id=d.department_id"
            ],
            "metadata": {
                "language": "sql",
                "azdata_cell_guid": "af55b894-0a39-4010-a0fe-e6a07ff9a9cc"
            },
            "outputs": [
                {
                    "output_type": "display_data",
                    "data": {
                        "text/html": "(40 rows affected)"
                    },
                    "metadata": {}
                },
                {
                    "output_type": "display_data",
                    "data": {
                        "text/html": "Total execution time: 00:00:00.007"
                    },
                    "metadata": {}
                },
                {
                    "output_type": "execute_result",
                    "execution_count": 12,
                    "data": {
                        "application/vnd.dataresource+json": {
                            "schema": {
                                "fields": [
                                    {
                                        "name": "last_name"
                                    },
                                    {
                                        "name": "department_name"
                                    }
                                ]
                            },
                            "data": [
                                {
                                    "0": "King",
                                    "1": "Executive"
                                },
                                {
                                    "0": "Kochhar",
                                    "1": "Executive"
                                },
                                {
                                    "0": "De Haan",
                                    "1": "Executive"
                                },
                                {
                                    "0": "Hunold",
                                    "1": "IT"
                                },
                                {
                                    "0": "Ernst",
                                    "1": "IT"
                                },
                                {
                                    "0": "Austin",
                                    "1": "IT"
                                },
                                {
                                    "0": "Pataballa",
                                    "1": "IT"
                                },
                                {
                                    "0": "Lorentz",
                                    "1": "IT"
                                },
                                {
                                    "0": "Greenberg",
                                    "1": "Finance"
                                },
                                {
                                    "0": "Faviet",
                                    "1": "Finance"
                                },
                                {
                                    "0": "Chen",
                                    "1": "Finance"
                                },
                                {
                                    "0": "Sciarra",
                                    "1": "Finance"
                                },
                                {
                                    "0": "Urman",
                                    "1": "Finance"
                                },
                                {
                                    "0": "Popp",
                                    "1": "Finance"
                                },
                                {
                                    "0": "Raphaely",
                                    "1": "Purchasing"
                                },
                                {
                                    "0": "Khoo",
                                    "1": "Purchasing"
                                },
                                {
                                    "0": "Baida",
                                    "1": "Purchasing"
                                },
                                {
                                    "0": "Tobias",
                                    "1": "Purchasing"
                                },
                                {
                                    "0": "Himuro",
                                    "1": "Purchasing"
                                },
                                {
                                    "0": "Colmenares",
                                    "1": "Purchasing"
                                },
                                {
                                    "0": "Weiss",
                                    "1": "Shipping"
                                },
                                {
                                    "0": "Fripp",
                                    "1": "Shipping"
                                },
                                {
                                    "0": "Kaufling",
                                    "1": "Shipping"
                                },
                                {
                                    "0": "Vollman",
                                    "1": "Shipping"
                                },
                                {
                                    "0": "Mikkilineni",
                                    "1": "Shipping"
                                },
                                {
                                    "0": "Russell",
                                    "1": "Sales"
                                },
                                {
                                    "0": "Partners",
                                    "1": "Sales"
                                },
                                {
                                    "0": "Taylor",
                                    "1": "Sales"
                                },
                                {
                                    "0": "Livingston",
                                    "1": "Sales"
                                },
                                {
                                    "0": "Grant",
                                    "1": "Sales"
                                },
                                {
                                    "0": "Johnson",
                                    "1": "Sales"
                                },
                                {
                                    "0": "Bell",
                                    "1": "Shipping"
                                },
                                {
                                    "0": "Everett",
                                    "1": "Shipping"
                                },
                                {
                                    "0": "Whalen",
                                    "1": "Administration"
                                },
                                {
                                    "0": "Hartstein",
                                    "1": "Marketing"
                                },
                                {
                                    "0": "Fay",
                                    "1": "Marketing"
                                },
                                {
                                    "0": "Mavris",
                                    "1": "Human Resources"
                                },
                                {
                                    "0": "Baer",
                                    "1": "Public Relations"
                                },
                                {
                                    "0": "Higgins",
                                    "1": "Accounting"
                                },
                                {
                                    "0": "Gietz",
                                    "1": "Accounting"
                                }
                            ]
                        },
                        "text/html": "<table><tr><th>last_name</th><th>department_name</th></tr><tr><td>King</td><td>Executive</td></tr><tr><td>Kochhar</td><td>Executive</td></tr><tr><td>De Haan</td><td>Executive</td></tr><tr><td>Hunold</td><td>IT</td></tr><tr><td>Ernst</td><td>IT</td></tr><tr><td>Austin</td><td>IT</td></tr><tr><td>Pataballa</td><td>IT</td></tr><tr><td>Lorentz</td><td>IT</td></tr><tr><td>Greenberg</td><td>Finance</td></tr><tr><td>Faviet</td><td>Finance</td></tr><tr><td>Chen</td><td>Finance</td></tr><tr><td>Sciarra</td><td>Finance</td></tr><tr><td>Urman</td><td>Finance</td></tr><tr><td>Popp</td><td>Finance</td></tr><tr><td>Raphaely</td><td>Purchasing</td></tr><tr><td>Khoo</td><td>Purchasing</td></tr><tr><td>Baida</td><td>Purchasing</td></tr><tr><td>Tobias</td><td>Purchasing</td></tr><tr><td>Himuro</td><td>Purchasing</td></tr><tr><td>Colmenares</td><td>Purchasing</td></tr><tr><td>Weiss</td><td>Shipping</td></tr><tr><td>Fripp</td><td>Shipping</td></tr><tr><td>Kaufling</td><td>Shipping</td></tr><tr><td>Vollman</td><td>Shipping</td></tr><tr><td>Mikkilineni</td><td>Shipping</td></tr><tr><td>Russell</td><td>Sales</td></tr><tr><td>Partners</td><td>Sales</td></tr><tr><td>Taylor</td><td>Sales</td></tr><tr><td>Livingston</td><td>Sales</td></tr><tr><td>Grant</td><td>Sales</td></tr><tr><td>Johnson</td><td>Sales</td></tr><tr><td>Bell</td><td>Shipping</td></tr><tr><td>Everett</td><td>Shipping</td></tr><tr><td>Whalen</td><td>Administration</td></tr><tr><td>Hartstein</td><td>Marketing</td></tr><tr><td>Fay</td><td>Marketing</td></tr><tr><td>Mavris</td><td>Human Resources</td></tr><tr><td>Baer</td><td>Public Relations</td></tr><tr><td>Higgins</td><td>Accounting</td></tr><tr><td>Gietz</td><td>Accounting</td></tr></table>"
                    },
                    "metadata": {}
                }
            ],
            "execution_count": 12
        },
        {
            "cell_type": "code",
            "source": [
                "8)\r\n",
                "select top 17  e.last_name, e.department_id as 'department_number',d.department_name, jb.job_title from employees e join \r\n",
                "departments d on e.department_id=d.department_id\r\n",
                "join jobs jb on e.job_id=jb.job_id"
            ],
            "metadata": {
                "language": "sql",
                "azdata_cell_guid": "df3736f2-07be-402d-ab48-07ac80789409"
            },
            "outputs": [
                {
                    "output_type": "display_data",
                    "data": {
                        "text/html": "(17 rows affected)"
                    },
                    "metadata": {}
                },
                {
                    "output_type": "display_data",
                    "data": {
                        "text/html": "Total execution time: 00:00:00.006"
                    },
                    "metadata": {}
                },
                {
                    "output_type": "execute_result",
                    "execution_count": 13,
                    "data": {
                        "application/vnd.dataresource+json": {
                            "schema": {
                                "fields": [
                                    {
                                        "name": "last_name"
                                    },
                                    {
                                        "name": "department_number"
                                    },
                                    {
                                        "name": "department_name"
                                    },
                                    {
                                        "name": "job_title"
                                    }
                                ]
                            },
                            "data": [
                                {
                                    "0": "King",
                                    "1": "9",
                                    "2": "Executive",
                                    "3": "President"
                                },
                                {
                                    "0": "Kochhar",
                                    "1": "9",
                                    "2": "Executive",
                                    "3": "Administration Vice President"
                                },
                                {
                                    "0": "De Haan",
                                    "1": "9",
                                    "2": "Executive",
                                    "3": "Administration Vice President"
                                },
                                {
                                    "0": "Hunold",
                                    "1": "6",
                                    "2": "IT",
                                    "3": "Programmer"
                                },
                                {
                                    "0": "Ernst",
                                    "1": "6",
                                    "2": "IT",
                                    "3": "Programmer"
                                },
                                {
                                    "0": "Austin",
                                    "1": "6",
                                    "2": "IT",
                                    "3": "Programmer"
                                },
                                {
                                    "0": "Pataballa",
                                    "1": "6",
                                    "2": "IT",
                                    "3": "Programmer"
                                },
                                {
                                    "0": "Lorentz",
                                    "1": "6",
                                    "2": "IT",
                                    "3": "Programmer"
                                },
                                {
                                    "0": "Greenberg",
                                    "1": "10",
                                    "2": "Finance",
                                    "3": "Finance Manager"
                                },
                                {
                                    "0": "Faviet",
                                    "1": "10",
                                    "2": "Finance",
                                    "3": "Accountant"
                                },
                                {
                                    "0": "Chen",
                                    "1": "10",
                                    "2": "Finance",
                                    "3": "Accountant"
                                },
                                {
                                    "0": "Sciarra",
                                    "1": "10",
                                    "2": "Finance",
                                    "3": "Accountant"
                                },
                                {
                                    "0": "Urman",
                                    "1": "10",
                                    "2": "Finance",
                                    "3": "Accountant"
                                },
                                {
                                    "0": "Popp",
                                    "1": "10",
                                    "2": "Finance",
                                    "3": "Accountant"
                                },
                                {
                                    "0": "Raphaely",
                                    "1": "3",
                                    "2": "Purchasing",
                                    "3": "Purchasing Manager"
                                },
                                {
                                    "0": "Khoo",
                                    "1": "3",
                                    "2": "Purchasing",
                                    "3": "Purchasing Clerk"
                                },
                                {
                                    "0": "Baida",
                                    "1": "3",
                                    "2": "Purchasing",
                                    "3": "Purchasing Clerk"
                                }
                            ]
                        },
                        "text/html": "<table><tr><th>last_name</th><th>department_number</th><th>department_name</th><th>job_title</th></tr><tr><td>King</td><td>9</td><td>Executive</td><td>President</td></tr><tr><td>Kochhar</td><td>9</td><td>Executive</td><td>Administration Vice President</td></tr><tr><td>De Haan</td><td>9</td><td>Executive</td><td>Administration Vice President</td></tr><tr><td>Hunold</td><td>6</td><td>IT</td><td>Programmer</td></tr><tr><td>Ernst</td><td>6</td><td>IT</td><td>Programmer</td></tr><tr><td>Austin</td><td>6</td><td>IT</td><td>Programmer</td></tr><tr><td>Pataballa</td><td>6</td><td>IT</td><td>Programmer</td></tr><tr><td>Lorentz</td><td>6</td><td>IT</td><td>Programmer</td></tr><tr><td>Greenberg</td><td>10</td><td>Finance</td><td>Finance Manager</td></tr><tr><td>Faviet</td><td>10</td><td>Finance</td><td>Accountant</td></tr><tr><td>Chen</td><td>10</td><td>Finance</td><td>Accountant</td></tr><tr><td>Sciarra</td><td>10</td><td>Finance</td><td>Accountant</td></tr><tr><td>Urman</td><td>10</td><td>Finance</td><td>Accountant</td></tr><tr><td>Popp</td><td>10</td><td>Finance</td><td>Accountant</td></tr><tr><td>Raphaely</td><td>3</td><td>Purchasing</td><td>Purchasing Manager</td></tr><tr><td>Khoo</td><td>3</td><td>Purchasing</td><td>Purchasing Clerk</td></tr><tr><td>Baida</td><td>3</td><td>Purchasing</td><td>Purchasing Clerk</td></tr></table>"
                    },
                    "metadata": {}
                }
            ],
            "execution_count": 13
        },
        {
            "cell_type": "code",
            "source": [
                "9)\r\n",
                "select e.last_name as 'Employee Name',e.employee_id as 'Employee Number',a.first_name as Manager, a.manager_id as 'Manager Number' from employees e join \r\n",
                "employees a on e.manager_id=a.employee_id where e.employee_id<118"
            ],
            "metadata": {
                "language": "sql",
                "azdata_cell_guid": "23a36ce0-3919-405e-ab27-d530305ed352"
            },
            "outputs": [
                {
                    "output_type": "display_data",
                    "data": {
                        "text/html": "(17 rows affected)"
                    },
                    "metadata": {}
                },
                {
                    "output_type": "display_data",
                    "data": {
                        "text/html": "Total execution time: 00:00:00.004"
                    },
                    "metadata": {}
                },
                {
                    "output_type": "execute_result",
                    "execution_count": 14,
                    "data": {
                        "application/vnd.dataresource+json": {
                            "schema": {
                                "fields": [
                                    {
                                        "name": "Employee Name"
                                    },
                                    {
                                        "name": "Employee Number"
                                    },
                                    {
                                        "name": "Manager"
                                    },
                                    {
                                        "name": "Manager Number"
                                    }
                                ]
                            },
                            "data": [
                                {
                                    "0": "Kochhar",
                                    "1": "101",
                                    "2": "Steven",
                                    "3": "NULL"
                                },
                                {
                                    "0": "De Haan",
                                    "1": "102",
                                    "2": "Steven",
                                    "3": "NULL"
                                },
                                {
                                    "0": "Hunold",
                                    "1": "103",
                                    "2": "Lex",
                                    "3": "100"
                                },
                                {
                                    "0": "Ernst",
                                    "1": "104",
                                    "2": "Alexander",
                                    "3": "102"
                                },
                                {
                                    "0": "Austin",
                                    "1": "105",
                                    "2": "Alexander",
                                    "3": "102"
                                },
                                {
                                    "0": "Pataballa",
                                    "1": "106",
                                    "2": "Alexander",
                                    "3": "102"
                                },
                                {
                                    "0": "Lorentz",
                                    "1": "107",
                                    "2": "Alexander",
                                    "3": "102"
                                },
                                {
                                    "0": "Greenberg",
                                    "1": "108",
                                    "2": "Neena",
                                    "3": "100"
                                },
                                {
                                    "0": "Faviet",
                                    "1": "109",
                                    "2": "Nancy",
                                    "3": "101"
                                },
                                {
                                    "0": "Chen",
                                    "1": "110",
                                    "2": "Nancy",
                                    "3": "101"
                                },
                                {
                                    "0": "Sciarra",
                                    "1": "111",
                                    "2": "Nancy",
                                    "3": "101"
                                },
                                {
                                    "0": "Urman",
                                    "1": "112",
                                    "2": "Nancy",
                                    "3": "101"
                                },
                                {
                                    "0": "Popp",
                                    "1": "113",
                                    "2": "Nancy",
                                    "3": "101"
                                },
                                {
                                    "0": "Raphaely",
                                    "1": "114",
                                    "2": "Steven",
                                    "3": "NULL"
                                },
                                {
                                    "0": "Khoo",
                                    "1": "115",
                                    "2": "Den",
                                    "3": "100"
                                },
                                {
                                    "0": "Baida",
                                    "1": "116",
                                    "2": "Den",
                                    "3": "100"
                                },
                                {
                                    "0": "Tobias",
                                    "1": "117",
                                    "2": "Den",
                                    "3": "100"
                                }
                            ]
                        },
                        "text/html": "<table><tr><th>Employee Name</th><th>Employee Number</th><th>Manager</th><th>Manager Number</th></tr><tr><td>Kochhar</td><td>101</td><td>Steven</td><td>NULL</td></tr><tr><td>De Haan</td><td>102</td><td>Steven</td><td>NULL</td></tr><tr><td>Hunold</td><td>103</td><td>Lex</td><td>100</td></tr><tr><td>Ernst</td><td>104</td><td>Alexander</td><td>102</td></tr><tr><td>Austin</td><td>105</td><td>Alexander</td><td>102</td></tr><tr><td>Pataballa</td><td>106</td><td>Alexander</td><td>102</td></tr><tr><td>Lorentz</td><td>107</td><td>Alexander</td><td>102</td></tr><tr><td>Greenberg</td><td>108</td><td>Neena</td><td>100</td></tr><tr><td>Faviet</td><td>109</td><td>Nancy</td><td>101</td></tr><tr><td>Chen</td><td>110</td><td>Nancy</td><td>101</td></tr><tr><td>Sciarra</td><td>111</td><td>Nancy</td><td>101</td></tr><tr><td>Urman</td><td>112</td><td>Nancy</td><td>101</td></tr><tr><td>Popp</td><td>113</td><td>Nancy</td><td>101</td></tr><tr><td>Raphaely</td><td>114</td><td>Steven</td><td>NULL</td></tr><tr><td>Khoo</td><td>115</td><td>Den</td><td>100</td></tr><tr><td>Baida</td><td>116</td><td>Den</td><td>100</td></tr><tr><td>Tobias</td><td>117</td><td>Den</td><td>100</td></tr></table>"
                    },
                    "metadata": {}
                }
            ],
            "execution_count": 14
        },
        {
            "cell_type": "code",
            "source": [
                "10)\r\n",
                "select top 17 last_name, department_id as department_number from employees order by last_name"
            ],
            "metadata": {
                "language": "sql",
                "azdata_cell_guid": "35267e03-387a-47f1-a956-619cc1d5a639"
            },
            "outputs": [
                {
                    "output_type": "display_data",
                    "data": {
                        "text/html": "(17 rows affected)"
                    },
                    "metadata": {}
                },
                {
                    "output_type": "display_data",
                    "data": {
                        "text/html": "Total execution time: 00:00:00.005"
                    },
                    "metadata": {}
                },
                {
                    "output_type": "execute_result",
                    "execution_count": 15,
                    "data": {
                        "application/vnd.dataresource+json": {
                            "schema": {
                                "fields": [
                                    {
                                        "name": "last_name"
                                    },
                                    {
                                        "name": "department_number"
                                    }
                                ]
                            },
                            "data": [
                                {
                                    "0": "Austin",
                                    "1": "6"
                                },
                                {
                                    "0": "Baer",
                                    "1": "7"
                                },
                                {
                                    "0": "Baida",
                                    "1": "3"
                                },
                                {
                                    "0": "Bell",
                                    "1": "5"
                                },
                                {
                                    "0": "Chen",
                                    "1": "10"
                                },
                                {
                                    "0": "Colmenares",
                                    "1": "3"
                                },
                                {
                                    "0": "De Haan",
                                    "1": "9"
                                },
                                {
                                    "0": "Ernst",
                                    "1": "6"
                                },
                                {
                                    "0": "Everett",
                                    "1": "5"
                                },
                                {
                                    "0": "Faviet",
                                    "1": "10"
                                },
                                {
                                    "0": "Fay",
                                    "1": "2"
                                },
                                {
                                    "0": "Fripp",
                                    "1": "5"
                                },
                                {
                                    "0": "Gietz",
                                    "1": "11"
                                },
                                {
                                    "0": "Grant",
                                    "1": "8"
                                },
                                {
                                    "0": "Greenberg",
                                    "1": "10"
                                },
                                {
                                    "0": "Hartstein",
                                    "1": "2"
                                },
                                {
                                    "0": "Higgins",
                                    "1": "11"
                                }
                            ]
                        },
                        "text/html": "<table><tr><th>last_name</th><th>department_number</th></tr><tr><td>Austin</td><td>6</td></tr><tr><td>Baer</td><td>7</td></tr><tr><td>Baida</td><td>3</td></tr><tr><td>Bell</td><td>5</td></tr><tr><td>Chen</td><td>10</td></tr><tr><td>Colmenares</td><td>3</td></tr><tr><td>De Haan</td><td>9</td></tr><tr><td>Ernst</td><td>6</td></tr><tr><td>Everett</td><td>5</td></tr><tr><td>Faviet</td><td>10</td></tr><tr><td>Fay</td><td>2</td></tr><tr><td>Fripp</td><td>5</td></tr><tr><td>Gietz</td><td>11</td></tr><tr><td>Grant</td><td>8</td></tr><tr><td>Greenberg</td><td>10</td></tr><tr><td>Hartstein</td><td>2</td></tr><tr><td>Higgins</td><td>11</td></tr></table>"
                    },
                    "metadata": {}
                }
            ],
            "execution_count": 15
        },
        {
            "cell_type": "code",
            "source": [
                "11)\r\n",
                "select top 16 'C' AS GRADE, CONCAT(e.first_name,' ', e.last_name) as Name,jb.job_title,e.department_Id,e.salary from employees e join jobs jb on e.job_id=jb.job_id\r\n",
                ""
            ],
            "metadata": {
                "language": "sql",
                "azdata_cell_guid": "20ad1c47-c678-4975-8b6a-053fb57942a3",
                "tags": []
            },
            "outputs": [
                {
                    "output_type": "error",
                    "evalue": "Msg 102, Level 15, State 1, Line 1\r\nIncorrect syntax near '11'.",
                    "ename": "",
                    "traceback": []
                },
                {
                    "output_type": "display_data",
                    "data": {
                        "text/html": "Total execution time: 00:00:00"
                    },
                    "metadata": {}
                }
            ],
            "execution_count": 1
        },
        {
            "cell_type": "code",
            "source": [
                "------------------------------------------------------Sub Query Solutions--------------------------------------------------------------------------"
            ],
            "metadata": {
                "language": "sql",
                "azdata_cell_guid": "9f533864-f48e-485c-babd-0c2a1b3ae0ee"
            },
            "outputs": [],
            "execution_count": null
        },
        {
            "cell_type": "code",
            "source": [
                "1)\r\n",
                "select last_name,hire_date from employees where department_id in(select department_id from departments where department_id=8)"
            ],
            "metadata": {
                "language": "sql",
                "azdata_cell_guid": "64eed969-b305-4008-95bf-c66b8a3adbb0"
            },
            "outputs": [
                {
                    "output_type": "display_data",
                    "data": {
                        "text/html": "(6 rows affected)"
                    },
                    "metadata": {}
                },
                {
                    "output_type": "display_data",
                    "data": {
                        "text/html": "Total execution time: 00:00:00.004"
                    },
                    "metadata": {}
                },
                {
                    "output_type": "execute_result",
                    "metadata": {},
                    "execution_count": 2,
                    "data": {
                        "application/vnd.dataresource+json": {
                            "schema": {
                                "fields": [
                                    {
                                        "name": "last_name"
                                    },
                                    {
                                        "name": "hire_date"
                                    }
                                ]
                            },
                            "data": [
                                {
                                    "0": "Russell",
                                    "1": "1996-10-01"
                                },
                                {
                                    "0": "Partners",
                                    "1": "1997-01-05"
                                },
                                {
                                    "0": "Taylor",
                                    "1": "1998-03-24"
                                },
                                {
                                    "0": "Livingston",
                                    "1": "1998-04-23"
                                },
                                {
                                    "0": "Grant",
                                    "1": "1999-05-24"
                                },
                                {
                                    "0": "Johnson",
                                    "1": "2000-01-04"
                                }
                            ]
                        },
                        "text/html": [
                            "<table>",
                            "<tr><th>last_name</th><th>hire_date</th></tr>",
                            "<tr><td>Russell</td><td>1996-10-01</td></tr>",
                            "<tr><td>Partners</td><td>1997-01-05</td></tr>",
                            "<tr><td>Taylor</td><td>1998-03-24</td></tr>",
                            "<tr><td>Livingston</td><td>1998-04-23</td></tr>",
                            "<tr><td>Grant</td><td>1999-05-24</td></tr>",
                            "<tr><td>Johnson</td><td>2000-01-04</td></tr>",
                            "</table>"
                        ]
                    }
                }
            ],
            "execution_count": 2
        },
        {
            "cell_type": "code",
            "source": [
                "2)\r\n",
                "select employee_id, first_name, salary from employees where salary in (select salary from employees where salary >= 8200) order by salary asc"
            ],
            "metadata": {
                "language": "sql",
                "azdata_cell_guid": "5919d5b6-5a58-4277-8371-b6c2db31ba68"
            },
            "outputs": [
                {
                    "output_type": "display_data",
                    "data": {
                        "text/html": "(17 rows affected)"
                    },
                    "metadata": {}
                },
                {
                    "output_type": "display_data",
                    "data": {
                        "text/html": "Total execution time: 00:00:00.009"
                    },
                    "metadata": {}
                },
                {
                    "output_type": "execute_result",
                    "metadata": {},
                    "execution_count": 3,
                    "data": {
                        "application/vnd.dataresource+json": {
                            "schema": {
                                "fields": [
                                    {
                                        "name": "employee_id"
                                    },
                                    {
                                        "name": "first_name"
                                    },
                                    {
                                        "name": "salary"
                                    }
                                ]
                            },
                            "data": [
                                {
                                    "0": "110",
                                    "1": "John",
                                    "2": "8200.00"
                                },
                                {
                                    "0": "121",
                                    "1": "Adam",
                                    "2": "8200.00"
                                },
                                {
                                    "0": "206",
                                    "1": "William",
                                    "2": "8300.00"
                                },
                                {
                                    "0": "177",
                                    "1": "Jack",
                                    "2": "8400.00"
                                },
                                {
                                    "0": "176",
                                    "1": "Jonathon",
                                    "2": "8600.00"
                                },
                                {
                                    "0": "103",
                                    "1": "Alexander",
                                    "2": "9000.00"
                                },
                                {
                                    "0": "109",
                                    "1": "Daniel",
                                    "2": "9000.00"
                                },
                                {
                                    "0": "204",
                                    "1": "Hermann",
                                    "2": "10000.00"
                                },
                                {
                                    "0": "114",
                                    "1": "Den",
                                    "2": "11000.00"
                                },
                                {
                                    "0": "108",
                                    "1": "Nancy",
                                    "2": "12000.00"
                                },
                                {
                                    "0": "205",
                                    "1": "Shelley",
                                    "2": "12000.00"
                                },
                                {
                                    "0": "201",
                                    "1": "Michael",
                                    "2": "13000.00"
                                },
                                {
                                    "0": "146",
                                    "1": "Karen",
                                    "2": "13500.00"
                                },
                                {
                                    "0": "145",
                                    "1": "John",
                                    "2": "14000.00"
                                },
                                {
                                    "0": "101",
                                    "1": "Neena",
                                    "2": "17000.00"
                                },
                                {
                                    "0": "102",
                                    "1": "Lex",
                                    "2": "17000.00"
                                },
                                {
                                    "0": "100",
                                    "1": "Steven",
                                    "2": "24000.00"
                                }
                            ]
                        },
                        "text/html": [
                            "<table>",
                            "<tr><th>employee_id</th><th>first_name</th><th>salary</th></tr>",
                            "<tr><td>110</td><td>John</td><td>8200.00</td></tr>",
                            "<tr><td>121</td><td>Adam</td><td>8200.00</td></tr>",
                            "<tr><td>206</td><td>William</td><td>8300.00</td></tr>",
                            "<tr><td>177</td><td>Jack</td><td>8400.00</td></tr>",
                            "<tr><td>176</td><td>Jonathon</td><td>8600.00</td></tr>",
                            "<tr><td>103</td><td>Alexander</td><td>9000.00</td></tr>",
                            "<tr><td>109</td><td>Daniel</td><td>9000.00</td></tr>",
                            "<tr><td>204</td><td>Hermann</td><td>10000.00</td></tr>",
                            "<tr><td>114</td><td>Den</td><td>11000.00</td></tr>",
                            "<tr><td>108</td><td>Nancy</td><td>12000.00</td></tr>",
                            "<tr><td>205</td><td>Shelley</td><td>12000.00</td></tr>",
                            "<tr><td>201</td><td>Michael</td><td>13000.00</td></tr>",
                            "<tr><td>146</td><td>Karen</td><td>13500.00</td></tr>",
                            "<tr><td>145</td><td>John</td><td>14000.00</td></tr>",
                            "<tr><td>101</td><td>Neena</td><td>17000.00</td></tr>",
                            "<tr><td>102</td><td>Lex</td><td>17000.00</td></tr>",
                            "<tr><td>100</td><td>Steven</td><td>24000.00</td></tr>",
                            "</table>"
                        ]
                    }
                }
            ],
            "execution_count": 3
        },
        {
            "cell_type": "code",
            "source": [
                "3)\r\n",
                "select employee_id as 'Employee Number' ,last_name from employees where employee_id in (select employee_id from employees where employee_id in(103,105,112,118,122,145))"
            ],
            "metadata": {
                "language": "sql",
                "azdata_cell_guid": "505f8d9e-3e79-4288-a772-561f17bb52ca"
            },
            "outputs": [
                {
                    "output_type": "display_data",
                    "data": {
                        "text/html": "(6 rows affected)"
                    },
                    "metadata": {}
                },
                {
                    "output_type": "display_data",
                    "data": {
                        "text/html": "Total execution time: 00:00:00.006"
                    },
                    "metadata": {}
                },
                {
                    "output_type": "execute_result",
                    "metadata": {},
                    "execution_count": 4,
                    "data": {
                        "application/vnd.dataresource+json": {
                            "schema": {
                                "fields": [
                                    {
                                        "name": "Employee Number"
                                    },
                                    {
                                        "name": "last_name"
                                    }
                                ]
                            },
                            "data": [
                                {
                                    "0": "103",
                                    "1": "Hunold"
                                },
                                {
                                    "0": "105",
                                    "1": "Austin"
                                },
                                {
                                    "0": "112",
                                    "1": "Urman"
                                },
                                {
                                    "0": "118",
                                    "1": "Himuro"
                                },
                                {
                                    "0": "122",
                                    "1": "Kaufling"
                                },
                                {
                                    "0": "145",
                                    "1": "Russell"
                                }
                            ]
                        },
                        "text/html": [
                            "<table>",
                            "<tr><th>Employee Number</th><th>last_name</th></tr>",
                            "<tr><td>103</td><td>Hunold</td></tr>",
                            "<tr><td>105</td><td>Austin</td></tr>",
                            "<tr><td>112</td><td>Urman</td></tr>",
                            "<tr><td>118</td><td>Himuro</td></tr>",
                            "<tr><td>122</td><td>Kaufling</td></tr>",
                            "<tr><td>145</td><td>Russell</td></tr>",
                            "</table>"
                        ]
                    }
                }
            ],
            "execution_count": 4
        },
        {
            "cell_type": "code",
            "source": [
                "4)\r\n",
                "select last_name, job_id, department_id from employees where employee_id in (select employee_id from employees where employee_id=203)"
            ],
            "metadata": {
                "language": "sql",
                "azdata_cell_guid": "fdb9720c-ffc1-4151-a222-a11eb2e1cd4e"
            },
            "outputs": [
                {
                    "output_type": "display_data",
                    "data": {
                        "text/html": "(1 row affected)"
                    },
                    "metadata": {}
                },
                {
                    "output_type": "display_data",
                    "data": {
                        "text/html": "Total execution time: 00:00:00.004"
                    },
                    "metadata": {}
                },
                {
                    "output_type": "execute_result",
                    "metadata": {},
                    "execution_count": 5,
                    "data": {
                        "application/vnd.dataresource+json": {
                            "schema": {
                                "fields": [
                                    {
                                        "name": "last_name"
                                    },
                                    {
                                        "name": "job_id"
                                    },
                                    {
                                        "name": "department_id"
                                    }
                                ]
                            },
                            "data": [
                                {
                                    "0": "Mavris",
                                    "1": "8",
                                    "2": "4"
                                }
                            ]
                        },
                        "text/html": [
                            "<table>",
                            "<tr><th>last_name</th><th>job_id</th><th>department_id</th></tr>",
                            "<tr><td>Mavris</td><td>8</td><td>4</td></tr>",
                            "</table>"
                        ]
                    }
                }
            ],
            "execution_count": 5
        },
        {
            "cell_type": "code",
            "source": [
                "5)\r\n",
                "select last_name, salary from employees where employee_id in (select employee_id from employees where manager_id=100)"
            ],
            "metadata": {
                "language": "sql",
                "azdata_cell_guid": "8c8b57a6-a5ca-4d4d-9247-354b414bff6c"
            },
            "outputs": [
                {
                    "output_type": "display_data",
                    "data": {
                        "text/html": "(14 rows affected)"
                    },
                    "metadata": {}
                },
                {
                    "output_type": "display_data",
                    "data": {
                        "text/html": "Total execution time: 00:00:00.003"
                    },
                    "metadata": {}
                },
                {
                    "output_type": "execute_result",
                    "metadata": {},
                    "execution_count": 6,
                    "data": {
                        "application/vnd.dataresource+json": {
                            "schema": {
                                "fields": [
                                    {
                                        "name": "last_name"
                                    },
                                    {
                                        "name": "salary"
                                    }
                                ]
                            },
                            "data": [
                                {
                                    "0": "Kochhar",
                                    "1": "17000.00"
                                },
                                {
                                    "0": "De Haan",
                                    "1": "17000.00"
                                },
                                {
                                    "0": "Raphaely",
                                    "1": "11000.00"
                                },
                                {
                                    "0": "Weiss",
                                    "1": "8000.00"
                                },
                                {
                                    "0": "Fripp",
                                    "1": "8200.00"
                                },
                                {
                                    "0": "Kaufling",
                                    "1": "7900.00"
                                },
                                {
                                    "0": "Vollman",
                                    "1": "6500.00"
                                },
                                {
                                    "0": "Russell",
                                    "1": "14000.00"
                                },
                                {
                                    "0": "Partners",
                                    "1": "13500.00"
                                },
                                {
                                    "0": "Taylor",
                                    "1": "8600.00"
                                },
                                {
                                    "0": "Livingston",
                                    "1": "8400.00"
                                },
                                {
                                    "0": "Grant",
                                    "1": "7000.00"
                                },
                                {
                                    "0": "Johnson",
                                    "1": "6200.00"
                                },
                                {
                                    "0": "Hartstein",
                                    "1": "13000.00"
                                }
                            ]
                        },
                        "text/html": [
                            "<table>",
                            "<tr><th>last_name</th><th>salary</th></tr>",
                            "<tr><td>Kochhar</td><td>17000.00</td></tr>",
                            "<tr><td>De Haan</td><td>17000.00</td></tr>",
                            "<tr><td>Raphaely</td><td>11000.00</td></tr>",
                            "<tr><td>Weiss</td><td>8000.00</td></tr>",
                            "<tr><td>Fripp</td><td>8200.00</td></tr>",
                            "<tr><td>Kaufling</td><td>7900.00</td></tr>",
                            "<tr><td>Vollman</td><td>6500.00</td></tr>",
                            "<tr><td>Russell</td><td>14000.00</td></tr>",
                            "<tr><td>Partners</td><td>13500.00</td></tr>",
                            "<tr><td>Taylor</td><td>8600.00</td></tr>",
                            "<tr><td>Livingston</td><td>8400.00</td></tr>",
                            "<tr><td>Grant</td><td>7000.00</td></tr>",
                            "<tr><td>Johnson</td><td>6200.00</td></tr>",
                            "<tr><td>Hartstein</td><td>13000.00</td></tr>",
                            "</table>"
                        ]
                    }
                }
            ],
            "execution_count": 6
        },
        {
            "cell_type": "code",
            "source": [
                "6)\r\n",
                "select department_id as 'Department Name', last_name, job_id from employees where employee_id in(select employee_id from employees where job_id =9)"
            ],
            "metadata": {
                "language": "sql",
                "azdata_cell_guid": "1d4cb98a-7e3a-40a1-8f48-a0844402b6c3"
            },
            "outputs": [
                {
                    "output_type": "display_data",
                    "data": {
                        "text/html": "(5 rows affected)"
                    },
                    "metadata": {}
                },
                {
                    "output_type": "display_data",
                    "data": {
                        "text/html": "Total execution time: 00:00:00.004"
                    },
                    "metadata": {}
                },
                {
                    "output_type": "execute_result",
                    "metadata": {},
                    "execution_count": 7,
                    "data": {
                        "application/vnd.dataresource+json": {
                            "schema": {
                                "fields": [
                                    {
                                        "name": "Department Name"
                                    },
                                    {
                                        "name": "last_name"
                                    },
                                    {
                                        "name": "job_id"
                                    }
                                ]
                            },
                            "data": [
                                {
                                    "0": "6",
                                    "1": "Hunold",
                                    "2": "9"
                                },
                                {
                                    "0": "6",
                                    "1": "Ernst",
                                    "2": "9"
                                },
                                {
                                    "0": "6",
                                    "1": "Austin",
                                    "2": "9"
                                },
                                {
                                    "0": "6",
                                    "1": "Pataballa",
                                    "2": "9"
                                },
                                {
                                    "0": "6",
                                    "1": "Lorentz",
                                    "2": "9"
                                }
                            ]
                        },
                        "text/html": [
                            "<table>",
                            "<tr><th>Department Name</th><th>last_name</th><th>job_id</th></tr>",
                            "<tr><td>6</td><td>Hunold</td><td>9</td></tr>",
                            "<tr><td>6</td><td>Ernst</td><td>9</td></tr>",
                            "<tr><td>6</td><td>Austin</td><td>9</td></tr>",
                            "<tr><td>6</td><td>Pataballa</td><td>9</td></tr>",
                            "<tr><td>6</td><td>Lorentz</td><td>9</td></tr>",
                            "</table>"
                        ]
                    }
                }
            ],
            "execution_count": 7
        },
        {
            "cell_type": "code",
            "source": [
                "7)\r\n",
                "select employee_id,last_name,salary from employees where employee_id in(select employee_id from employees where employee_id in(103,145))"
            ],
            "metadata": {
                "language": "sql",
                "azdata_cell_guid": "15d3024e-47b7-4b14-aa29-0b18d821133e"
            },
            "outputs": [
                {
                    "output_type": "display_data",
                    "data": {
                        "text/html": "(2 rows affected)"
                    },
                    "metadata": {}
                },
                {
                    "output_type": "display_data",
                    "data": {
                        "text/html": "Total execution time: 00:00:00.005"
                    },
                    "metadata": {}
                },
                {
                    "output_type": "execute_result",
                    "metadata": {},
                    "execution_count": 8,
                    "data": {
                        "application/vnd.dataresource+json": {
                            "schema": {
                                "fields": [
                                    {
                                        "name": "employee_id"
                                    },
                                    {
                                        "name": "last_name"
                                    },
                                    {
                                        "name": "salary"
                                    }
                                ]
                            },
                            "data": [
                                {
                                    "0": "103",
                                    "1": "Hunold",
                                    "2": "9000.00"
                                },
                                {
                                    "0": "145",
                                    "1": "Russell",
                                    "2": "14000.00"
                                }
                            ]
                        },
                        "text/html": [
                            "<table>",
                            "<tr><th>employee_id</th><th>last_name</th><th>salary</th></tr>",
                            "<tr><td>103</td><td>Hunold</td><td>9000.00</td></tr>",
                            "<tr><td>145</td><td>Russell</td><td>14000.00</td></tr>",
                            "</table>"
                        ]
                    }
                }
            ],
            "execution_count": 8
        },
        {
            "cell_type": "code",
            "source": [
                "\r\n",
                "select first_name from employees where employee_id in( select employee_id from employees where phone_number is null)\r\n",
                "\r\n",
                "OR\r\n",
                "\r\n",
                "select distinct first_name from employees where first_name in('john','karen','jonathon','jack','kimberely','charles')"
            ],
            "metadata": {
                "language": "sql",
                "azdata_cell_guid": "d9ac8e54-9f8a-4af0-b79e-05e7d3bdc88c"
            },
            "outputs": [
                {
                    "output_type": "display_data",
                    "data": {
                        "text/html": "(6 rows affected)"
                    },
                    "metadata": {}
                },
                {
                    "output_type": "display_data",
                    "data": {
                        "text/html": "(6 rows affected)"
                    },
                    "metadata": {}
                },
                {
                    "output_type": "display_data",
                    "data": {
                        "text/html": "Total execution time: 00:00:00.011"
                    },
                    "metadata": {}
                },
                {
                    "output_type": "execute_result",
                    "metadata": {},
                    "execution_count": 13,
                    "data": {
                        "application/vnd.dataresource+json": {
                            "schema": {
                                "fields": [
                                    {
                                        "name": "first_name"
                                    }
                                ]
                            },
                            "data": [
                                {
                                    "0": "John"
                                },
                                {
                                    "0": "Karen"
                                },
                                {
                                    "0": "Jonathon"
                                },
                                {
                                    "0": "Jack"
                                },
                                {
                                    "0": "Kimberely"
                                },
                                {
                                    "0": "Charles"
                                }
                            ]
                        },
                        "text/html": [
                            "<table>",
                            "<tr><th>first_name</th></tr>",
                            "<tr><td>John</td></tr>",
                            "<tr><td>Karen</td></tr>",
                            "<tr><td>Jonathon</td></tr>",
                            "<tr><td>Jack</td></tr>",
                            "<tr><td>Kimberely</td></tr>",
                            "<tr><td>Charles</td></tr>",
                            "</table>"
                        ]
                    }
                },
                {
                    "output_type": "execute_result",
                    "metadata": {},
                    "execution_count": 13,
                    "data": {
                        "application/vnd.dataresource+json": {
                            "schema": {
                                "fields": [
                                    {
                                        "name": "first_name"
                                    }
                                ]
                            },
                            "data": [
                                {
                                    "0": "Charles"
                                },
                                {
                                    "0": "Jack"
                                },
                                {
                                    "0": "John"
                                },
                                {
                                    "0": "Jonathon"
                                },
                                {
                                    "0": "Karen"
                                },
                                {
                                    "0": "Kimberely"
                                }
                            ]
                        },
                        "text/html": [
                            "<table>",
                            "<tr><th>first_name</th></tr>",
                            "<tr><td>Charles</td></tr>",
                            "<tr><td>Jack</td></tr>",
                            "<tr><td>John</td></tr>",
                            "<tr><td>Jonathon</td></tr>",
                            "<tr><td>Karen</td></tr>",
                            "<tr><td>Kimberely</td></tr>",
                            "</table>"
                        ]
                    }
                }
            ],
            "execution_count": 13
        },
        {
            "cell_type": "code",
            "source": [
                "9)\r\n",
                "select last_name, salary from employees where employee_id in (select employee_id from employees where salary >=17000)"
            ],
            "metadata": {
                "language": "sql",
                "azdata_cell_guid": "3a60a0b9-b2de-4446-b356-cf1d81b0d226"
            },
            "outputs": [
                {
                    "output_type": "display_data",
                    "data": {
                        "text/html": "(3 rows affected)"
                    },
                    "metadata": {}
                },
                {
                    "output_type": "display_data",
                    "data": {
                        "text/html": "Total execution time: 00:00:00.004"
                    },
                    "metadata": {}
                },
                {
                    "output_type": "execute_result",
                    "metadata": {},
                    "execution_count": 10,
                    "data": {
                        "application/vnd.dataresource+json": {
                            "schema": {
                                "fields": [
                                    {
                                        "name": "last_name"
                                    },
                                    {
                                        "name": "salary"
                                    }
                                ]
                            },
                            "data": [
                                {
                                    "0": "King",
                                    "1": "24000.00"
                                },
                                {
                                    "0": "Kochhar",
                                    "1": "17000.00"
                                },
                                {
                                    "0": "De Haan",
                                    "1": "17000.00"
                                }
                            ]
                        },
                        "text/html": [
                            "<table>",
                            "<tr><th>last_name</th><th>salary</th></tr>",
                            "<tr><td>King</td><td>24000.00</td></tr>",
                            "<tr><td>Kochhar</td><td>17000.00</td></tr>",
                            "<tr><td>De Haan</td><td>17000.00</td></tr>",
                            "</table>"
                        ]
                    }
                }
            ],
            "execution_count": 10
        },
        {
            "cell_type": "code",
            "source": [
                "10)\r\n",
                "select first_name, salary, department_id from employees where employee_id in(select employee_id from employees where salary >=14000 and manager_id=100 )"
            ],
            "metadata": {
                "language": "sql",
                "azdata_cell_guid": "bfc88128-911a-473d-a05c-8d0b664b6e91"
            },
            "outputs": [
                {
                    "output_type": "display_data",
                    "data": {
                        "text/html": "(3 rows affected)"
                    },
                    "metadata": {}
                },
                {
                    "output_type": "display_data",
                    "data": {
                        "text/html": "Total execution time: 00:00:00.004"
                    },
                    "metadata": {}
                },
                {
                    "output_type": "execute_result",
                    "metadata": {},
                    "execution_count": 11,
                    "data": {
                        "application/vnd.dataresource+json": {
                            "schema": {
                                "fields": [
                                    {
                                        "name": "first_name"
                                    },
                                    {
                                        "name": "salary"
                                    },
                                    {
                                        "name": "department_id"
                                    }
                                ]
                            },
                            "data": [
                                {
                                    "0": "Neena",
                                    "1": "17000.00",
                                    "2": "9"
                                },
                                {
                                    "0": "Lex",
                                    "1": "17000.00",
                                    "2": "9"
                                },
                                {
                                    "0": "John",
                                    "1": "14000.00",
                                    "2": "8"
                                }
                            ]
                        },
                        "text/html": [
                            "<table>",
                            "<tr><th>first_name</th><th>salary</th><th>department_id</th></tr>",
                            "<tr><td>Neena</td><td>17000.00</td><td>9</td></tr>",
                            "<tr><td>Lex</td><td>17000.00</td><td>9</td></tr>",
                            "<tr><td>John</td><td>14000.00</td><td>8</td></tr>",
                            "</table>"
                        ]
                    }
                }
            ],
            "execution_count": 11
        }
    ]
}