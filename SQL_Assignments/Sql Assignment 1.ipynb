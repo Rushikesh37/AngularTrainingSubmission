{
    "cells": [
        {
            "cell_type": "code",
            "execution_count": 2,
            "metadata": {
                "azdata_cell_guid": "3bbdf298-853b-40d0-bfee-a83e38c0df4f",
                "language": "sql"
            },
            "outputs": [
                {
                    "data": {
                        "text/html": [
                            "(4 rows affected)"
                        ]
                    },
                    "metadata": {},
                    "output_type": "display_data"
                },
                {
                    "data": {
                        "text/html": [
                            "Total execution time: 00:00:00.008"
                        ]
                    },
                    "metadata": {},
                    "output_type": "display_data"
                },
                {
                    "data": {
                        "application/vnd.dataresource+json": {
                            "data": [
                                {
                                    "0": "Advertising"
                                },
                                {
                                    "0": "Production"
                                },
                                {
                                    "0": "Sales"
                                },
                                {
                                    "0": "Shipping"
                                }
                            ],
                            "schema": {
                                "fields": [
                                    {
                                        "name": "department"
                                    }
                                ]
                            }
                        },
                        "text/html": [
                            "<table>\n",
                            "<tr><th>department</th></tr>\n",
                            "<tr><td>Advertising</td></tr>\n",
                            "<tr><td>Production</td></tr>\n",
                            "<tr><td>Sales</td></tr>\n",
                            "<tr><td>Shipping</td></tr>\n",
                            "</table>"
                        ]
                    },
                    "execution_count": 2,
                    "metadata": {},
                    "output_type": "execute_result"
                }
            ],
            "source": [
                "select distinct department from employee"
            ]
        },
        {
            "cell_type": "code",
            "execution_count": 3,
            "metadata": {
                "azdata_cell_guid": "3fc44842-51ae-4f64-b16f-b8ee94dd6718",
                "language": "sql"
            },
            "outputs": [
                {
                    "data": {
                        "text/html": [
                            "Caution: Changing any part of an object name could break scripts and stored procedures."
                        ]
                    },
                    "metadata": {},
                    "output_type": "display_data"
                },
                {
                    "data": {
                        "text/html": [
                            "Total execution time: 00:00:00.121"
                        ]
                    },
                    "metadata": {},
                    "output_type": "display_data"
                }
            ],
            "source": [
                "exec sp_rename 'employee.EmpID' , 'employeeID' "
            ]
        },
        {
            "cell_type": "code",
            "execution_count": 5,
            "metadata": {
                "azdata_cell_guid": "80047203-c202-4a70-85a0-481a05bdd157",
                "language": "sql"
            },
            "outputs": [
                {
                    "data": {
                        "text/html": [
                            "(4 rows affected)"
                        ]
                    },
                    "metadata": {},
                    "output_type": "display_data"
                },
                {
                    "data": {
                        "text/html": [
                            "Total execution time: 00:00:00.005"
                        ]
                    },
                    "metadata": {},
                    "output_type": "display_data"
                },
                {
                    "data": {
                        "application/vnd.dataresource+json": {
                            "data": [
                                {
                                    "0": "1234",
                                    "1": "J.Jones",
                                    "2": "Sales",
                                    "3": "18/Jun/92",
                                    "4": "24"
                                },
                                {
                                    "0": "3456",
                                    "1": "A.Adams",
                                    "2": "Sales",
                                    "3": "18/Nov/98",
                                    "4": "60"
                                },
                                {
                                    "0": "6789",
                                    "1": "C.Cole",
                                    "2": "Shipping",
                                    "3": "18/May/91",
                                    "4": "32"
                                },
                                {
                                    "0": "7890",
                                    "1": "E.Ellis",
                                    "2": "Sales",
                                    "3": "15/Dec/98",
                                    "4": "80"
                                }
                            ],
                            "schema": {
                                "fields": [
                                    {
                                        "name": "employeeID"
                                    },
                                    {
                                        "name": "Name"
                                    },
                                    {
                                        "name": "Department"
                                    },
                                    {
                                        "name": "HireDate"
                                    },
                                    {
                                        "name": "Training"
                                    }
                                ]
                            }
                        },
                        "text/html": [
                            "<table>\n",
                            "<tr><th>employeeID</th><th>Name</th><th>Department</th><th>HireDate</th><th>Training</th></tr>\n",
                            "<tr><td>1234</td><td>J.Jones</td><td>Sales</td><td>18/Jun/92</td><td>24</td></tr>\n",
                            "<tr><td>3456</td><td>A.Adams</td><td>Sales</td><td>18/Nov/98</td><td>60</td></tr>\n",
                            "<tr><td>6789</td><td>C.Cole</td><td>Shipping</td><td>18/May/91</td><td>32</td></tr>\n",
                            "<tr><td>7890</td><td>E.Ellis</td><td>Sales</td><td>15/Dec/98</td><td>80</td></tr>\n",
                            "</table>"
                        ]
                    },
                    "execution_count": 5,
                    "metadata": {},
                    "output_type": "execute_result"
                }
            ],
            "source": [
                "select * from employee where department in ('sales','shipping')"
            ]
        },
        {
            "cell_type": "code",
            "execution_count": null,
            "metadata": {
                "azdata_cell_guid": "0142df10-e610-406b-ad1c-211ecd531b6a",
                "language": "sql"
            },
            "outputs": [],
            "source": []
        },
        {
            "cell_type": "code",
            "execution_count": 25,
            "metadata": {
                "azdata_cell_guid": "bf8c1cfd-b03c-4b90-a11a-2306d7f20022",
                "language": "sql",
                "tags": []
            },
            "outputs": [
                {
                    "data": {
                        "text/html": [
                            "(0 rows affected)"
                        ]
                    },
                    "metadata": {},
                    "output_type": "display_data"
                },
                {
                    "data": {
                        "text/html": [
                            "Total execution time: 00:00:00.004"
                        ]
                    },
                    "metadata": {},
                    "output_type": "display_data"
                },
                {
                    "data": {
                        "application/vnd.dataresource+json": {
                            "data": [],
                            "schema": {
                                "fields": [
                                    {
                                        "name": "employeeID"
                                    },
                                    {
                                        "name": "Name"
                                    },
                                    {
                                        "name": "Department"
                                    },
                                    {
                                        "name": "Training"
                                    }
                                ]
                            }
                        },
                        "text/html": [
                            "<table>\n",
                            "<tr><th>employeeID</th><th>Name</th><th>Department</th><th>Training</th></tr>\n",
                            "</table>"
                        ]
                    },
                    "execution_count": 25,
                    "metadata": {},
                    "output_type": "execute_result"
                }
            ],
            "source": [
                "select top 0 * into TABLE2 from Employee\n",
                "\n",
                "select * from TABLE2"
            ]
        },
        {
            "cell_type": "code",
            "execution_count": 6,
            "metadata": {
                "azdata_cell_guid": "4dd7b83f-d526-47a4-a7be-cdbbf16f26d0",
                "language": "sql"
            },
            "outputs": [
                {
                    "data": {
                        "text/html": [
                            "(4 rows affected)"
                        ]
                    },
                    "metadata": {},
                    "output_type": "display_data"
                },
                {
                    "data": {
                        "text/html": [
                            "Total execution time: 00:00:00.005"
                        ]
                    },
                    "metadata": {},
                    "output_type": "display_data"
                },
                {
                    "data": {
                        "application/vnd.dataresource+json": {
                            "data": [
                                {
                                    "0": "3456",
                                    "1": "A.Adams",
                                    "2": "Sales",
                                    "3": "18/Nov/98",
                                    "4": "60"
                                },
                                {
                                    "0": "5678",
                                    "1": "D.Davis",
                                    "2": "Production",
                                    "3": "26/Jul/99",
                                    "4": "56"
                                },
                                {
                                    "0": "7890",
                                    "1": "E.Ellis",
                                    "2": "Sales",
                                    "3": "15/Dec/98",
                                    "4": "80"
                                },
                                {
                                    "0": "9012",
                                    "1": "G.Gates",
                                    "2": "Advertising",
                                    "3": "15/Mar/99",
                                    "4": "48"
                                }
                            ],
                            "schema": {
                                "fields": [
                                    {
                                        "name": "employeeID"
                                    },
                                    {
                                        "name": "Name"
                                    },
                                    {
                                        "name": "Department"
                                    },
                                    {
                                        "name": "HireDate"
                                    },
                                    {
                                        "name": "Training"
                                    }
                                ]
                            }
                        },
                        "text/html": [
                            "<table>\n",
                            "<tr><th>employeeID</th><th>Name</th><th>Department</th><th>HireDate</th><th>Training</th></tr>\n",
                            "<tr><td>3456</td><td>A.Adams</td><td>Sales</td><td>18/Nov/98</td><td>60</td></tr>\n",
                            "<tr><td>5678</td><td>D.Davis</td><td>Production</td><td>26/Jul/99</td><td>56</td></tr>\n",
                            "<tr><td>7890</td><td>E.Ellis</td><td>Sales</td><td>15/Dec/98</td><td>80</td></tr>\n",
                            "<tr><td>9012</td><td>G.Gates</td><td>Advertising</td><td>15/Mar/99</td><td>48</td></tr>\n",
                            "</table>"
                        ]
                    },
                    "execution_count": 6,
                    "metadata": {},
                    "output_type": "execute_result"
                }
            ],
            "source": [
                "select * from employee where training > 40"
            ]
        },
        {
            "cell_type": "code",
            "execution_count": null,
            "metadata": {
                "azdata_cell_guid": "a4889ccd-f2bc-46b2-a53c-1528318d198a",
                "language": "sql"
            },
            "outputs": [],
            "source": []
        },
        {
            "cell_type": "code",
            "execution_count": 26,
            "metadata": {
                "azdata_cell_guid": "149e5486-2d11-47b2-86ba-33684a6dc957",
                "language": "sql"
            },
            "outputs": [
                {
                    "data": {
                        "text/html": [
                            "(9 rows affected)"
                        ]
                    },
                    "metadata": {},
                    "output_type": "display_data"
                },
                {
                    "data": {
                        "text/html": [
                            "Total execution time: 00:00:00.003"
                        ]
                    },
                    "metadata": {},
                    "output_type": "display_data"
                },
                {
                    "data": {
                        "application/vnd.dataresource+json": {
                            "data": [
                                {
                                    "0": "1234",
                                    "1": "J.Jones",
                                    "2": "Sales",
                                    "3": "24"
                                },
                                {
                                    "0": "2345",
                                    "1": "S.Smith",
                                    "2": "Production",
                                    "3": "40"
                                },
                                {
                                    "0": "3456",
                                    "1": "A.Adams",
                                    "2": "Sales",
                                    "3": "60"
                                },
                                {
                                    "0": "4567",
                                    "1": "B.Bates",
                                    "2": "Advertising",
                                    "3": "16"
                                },
                                {
                                    "0": "5678",
                                    "1": "D.Davis",
                                    "2": "Production",
                                    "3": "56"
                                },
                                {
                                    "0": "6789",
                                    "1": "C.Cole",
                                    "2": "Shipping",
                                    "3": "32"
                                },
                                {
                                    "0": "NULL",
                                    "1": "S.Shina",
                                    "2": "Marketing",
                                    "3": "45"
                                },
                                {
                                    "0": "8901",
                                    "1": "F.Files",
                                    "2": "Advertising",
                                    "3": "24"
                                },
                                {
                                    "0": "9012",
                                    "1": "G.Gates",
                                    "2": "Advertising",
                                    "3": "48"
                                }
                            ],
                            "schema": {
                                "fields": [
                                    {
                                        "name": "employeeID"
                                    },
                                    {
                                        "name": "Name"
                                    },
                                    {
                                        "name": "Department"
                                    },
                                    {
                                        "name": "Training"
                                    }
                                ]
                            }
                        },
                        "text/html": [
                            "<table>\n",
                            "<tr><th>employeeID</th><th>Name</th><th>Department</th><th>Training</th></tr>\n",
                            "<tr><td>1234</td><td>J.Jones</td><td>Sales</td><td>24</td></tr>\n",
                            "<tr><td>2345</td><td>S.Smith</td><td>Production</td><td>40</td></tr>\n",
                            "<tr><td>3456</td><td>A.Adams</td><td>Sales</td><td>60</td></tr>\n",
                            "<tr><td>4567</td><td>B.Bates</td><td>Advertising</td><td>16</td></tr>\n",
                            "<tr><td>5678</td><td>D.Davis</td><td>Production</td><td>56</td></tr>\n",
                            "<tr><td>6789</td><td>C.Cole</td><td>Shipping</td><td>32</td></tr>\n",
                            "<tr><td>NULL</td><td>S.Shina</td><td>Marketing</td><td>45</td></tr>\n",
                            "<tr><td>8901</td><td>F.Files</td><td>Advertising</td><td>24</td></tr>\n",
                            "<tr><td>9012</td><td>G.Gates</td><td>Advertising</td><td>48</td></tr>\n",
                            "</table>"
                        ]
                    },
                    "execution_count": 26,
                    "metadata": {},
                    "output_type": "execute_result"
                }
            ],
            "source": [
                "delete from employee where training > 60\n",
                "select * from employee"
            ]
        },
        {
            "cell_type": "code",
            "execution_count": 28,
            "metadata": {
                "azdata_cell_guid": "fa3b2e39-25f8-4bb1-8944-f249810a6fe3",
                "language": "sql",
                "tags": []
            },
            "outputs": [
                {
                    "data": {
                        "text/html": [
                            "(9 rows affected)"
                        ]
                    },
                    "metadata": {},
                    "output_type": "display_data"
                },
                {
                    "data": {
                        "text/html": [
                            "Total execution time: 00:00:00.003"
                        ]
                    },
                    "metadata": {},
                    "output_type": "display_data"
                },
                {
                    "data": {
                        "application/vnd.dataresource+json": {
                            "data": [
                                {
                                    "0": "1234",
                                    "1": "J.Jones",
                                    "2": "Sales",
                                    "3": "24"
                                },
                                {
                                    "0": "2345",
                                    "1": "S.Smith",
                                    "2": "Production",
                                    "3": "40"
                                },
                                {
                                    "0": "3456",
                                    "1": "A.Adams",
                                    "2": "Sales",
                                    "3": "60"
                                },
                                {
                                    "0": "4567",
                                    "1": "B.Bates",
                                    "2": "Advertising",
                                    "3": "16"
                                },
                                {
                                    "0": "5678",
                                    "1": "D.Davis",
                                    "2": "Production",
                                    "3": "56"
                                },
                                {
                                    "0": "6789",
                                    "1": "C.Cole",
                                    "2": "Shipping",
                                    "3": "32"
                                },
                                {
                                    "0": "NULL",
                                    "1": "S.Shina",
                                    "2": "Marketing",
                                    "3": "45"
                                },
                                {
                                    "0": "8901",
                                    "1": "F.Files",
                                    "2": "Advertising",
                                    "3": "24"
                                },
                                {
                                    "0": "9012",
                                    "1": "G.Gates",
                                    "2": "Advertising",
                                    "3": "48"
                                }
                            ],
                            "schema": {
                                "fields": [
                                    {
                                        "name": "employeeID"
                                    },
                                    {
                                        "name": "Name"
                                    },
                                    {
                                        "name": "Department"
                                    },
                                    {
                                        "name": "Training"
                                    }
                                ]
                            }
                        },
                        "text/html": [
                            "<table>\n",
                            "<tr><th>employeeID</th><th>Name</th><th>Department</th><th>Training</th></tr>\n",
                            "<tr><td>1234</td><td>J.Jones</td><td>Sales</td><td>24</td></tr>\n",
                            "<tr><td>2345</td><td>S.Smith</td><td>Production</td><td>40</td></tr>\n",
                            "<tr><td>3456</td><td>A.Adams</td><td>Sales</td><td>60</td></tr>\n",
                            "<tr><td>4567</td><td>B.Bates</td><td>Advertising</td><td>16</td></tr>\n",
                            "<tr><td>5678</td><td>D.Davis</td><td>Production</td><td>56</td></tr>\n",
                            "<tr><td>6789</td><td>C.Cole</td><td>Shipping</td><td>32</td></tr>\n",
                            "<tr><td>NULL</td><td>S.Shina</td><td>Marketing</td><td>45</td></tr>\n",
                            "<tr><td>8901</td><td>F.Files</td><td>Advertising</td><td>24</td></tr>\n",
                            "<tr><td>9012</td><td>G.Gates</td><td>Advertising</td><td>48</td></tr>\n",
                            "</table>"
                        ]
                    },
                    "execution_count": 28,
                    "metadata": {},
                    "output_type": "execute_result"
                }
            ],
            "source": [
                " alter table employee drop column hiredate;\n",
                "select * from employee"
            ]
        },
        {
            "cell_type": "code",
            "execution_count": 21,
            "metadata": {
                "azdata_cell_guid": "36b0c69b-cc7b-43bb-94dc-5cf4283b8f8f",
                "language": "sql"
            },
            "outputs": [
                {
                    "data": {
                        "text/html": [
                            "Commands completed successfully."
                        ]
                    },
                    "metadata": {},
                    "output_type": "display_data"
                },
                {
                    "data": {
                        "text/html": [
                            "Total execution time: 00:00:00.007"
                        ]
                    },
                    "metadata": {},
                    "output_type": "display_data"
                }
            ],
            "source": [
                "alter table employee alter column department varchar(34)"
            ]
        },
        {
            "cell_type": "code",
            "execution_count": 29,
            "metadata": {
                "azdata_cell_guid": "49209be9-b62b-4be1-8318-f3536cb911cd",
                "language": "sql"
            },
            "outputs": [
                {
                    "data": {
                        "text/html": [
                            "(9 rows affected)"
                        ]
                    },
                    "metadata": {},
                    "output_type": "display_data"
                },
                {
                    "data": {
                        "text/html": [
                            "Total execution time: 00:00:00.002"
                        ]
                    },
                    "metadata": {},
                    "output_type": "display_data"
                },
                {
                    "data": {
                        "application/vnd.dataresource+json": {
                            "data": [
                                {
                                    "0": "1234",
                                    "1": "J.Jones",
                                    "2": "Sales",
                                    "3": "24"
                                },
                                {
                                    "0": "2345",
                                    "1": "S.Smith",
                                    "2": "Production",
                                    "3": "40"
                                },
                                {
                                    "0": "3456",
                                    "1": "A.Adams",
                                    "2": "Sales",
                                    "3": "60"
                                },
                                {
                                    "0": "4567",
                                    "1": "B.Bates",
                                    "2": "Advertising",
                                    "3": "16"
                                },
                                {
                                    "0": "5678",
                                    "1": "D.Davis",
                                    "2": "Production",
                                    "3": "56"
                                },
                                {
                                    "0": "6789",
                                    "1": "C.Cole",
                                    "2": "Shipping",
                                    "3": "32"
                                },
                                {
                                    "0": "NULL",
                                    "1": "S.Shina",
                                    "2": "Marketing",
                                    "3": "45"
                                },
                                {
                                    "0": "8901",
                                    "1": "F.Files",
                                    "2": "Advertising",
                                    "3": "24"
                                },
                                {
                                    "0": "9012",
                                    "1": "G.Gates",
                                    "2": "Advertising",
                                    "3": "48"
                                }
                            ],
                            "schema": {
                                "fields": [
                                    {
                                        "name": "employeeID"
                                    },
                                    {
                                        "name": "Name"
                                    },
                                    {
                                        "name": "Department"
                                    },
                                    {
                                        "name": "Training"
                                    }
                                ]
                            }
                        },
                        "text/html": [
                            "<table>\n",
                            "<tr><th>employeeID</th><th>Name</th><th>Department</th><th>Training</th></tr>\n",
                            "<tr><td>1234</td><td>J.Jones</td><td>Sales</td><td>24</td></tr>\n",
                            "<tr><td>2345</td><td>S.Smith</td><td>Production</td><td>40</td></tr>\n",
                            "<tr><td>3456</td><td>A.Adams</td><td>Sales</td><td>60</td></tr>\n",
                            "<tr><td>4567</td><td>B.Bates</td><td>Advertising</td><td>16</td></tr>\n",
                            "<tr><td>5678</td><td>D.Davis</td><td>Production</td><td>56</td></tr>\n",
                            "<tr><td>6789</td><td>C.Cole</td><td>Shipping</td><td>32</td></tr>\n",
                            "<tr><td>NULL</td><td>S.Shina</td><td>Marketing</td><td>45</td></tr>\n",
                            "<tr><td>8901</td><td>F.Files</td><td>Advertising</td><td>24</td></tr>\n",
                            "<tr><td>9012</td><td>G.Gates</td><td>Advertising</td><td>48</td></tr>\n",
                            "</table>"
                        ]
                    },
                    "execution_count": 29,
                    "metadata": {},
                    "output_type": "execute_result"
                }
            ],
            "source": [
                "insert into employee (name,department,Training) values ('S.Shina','Marketing', 45)\n",
                "select * from employee"
            ]
        }
    ],
    "metadata": {
        "kernelspec": {
            "display_name": "SQL",
            "language": "sql",
            "name": "SQL"
        },
        "language_info": {
            "name": "sql",
            "version": ""
        }
    },
    "nbformat": 4,
    "nbformat_minor": 2
}
